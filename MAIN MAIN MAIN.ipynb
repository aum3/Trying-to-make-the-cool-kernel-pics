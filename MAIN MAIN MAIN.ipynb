{
  "cells": [
    {
      "cell_type": "code",
      "execution_count": 12,
      "id": "eec913ed",
      "metadata": {
        "id": "eec913ed",
        "colab": {
          "base_uri": "https://localhost:8080/"
        },
        "outputId": "1920a1b7-ce54-491f-d213-770c3fb4338e"
      },
      "outputs": [
        {
          "output_type": "stream",
          "name": "stdout",
          "text": [
            "Collecting paramz==0.9.5\n",
            "  Downloading paramz-0.9.5.tar.gz (71 kB)\n",
            "\u001b[?25l     \u001b[90m━━━━━━━━━━━━━━━━━━━━━━━━━━━━━━━━━━━━━━━━\u001b[0m \u001b[32m0.0/71.3 kB\u001b[0m \u001b[31m?\u001b[0m eta \u001b[36m-:--:--\u001b[0m\r\u001b[2K     \u001b[90m━━━━━━━━━━━━━━━━━━━━━━━━━━━━━━━━━━━━━━━━\u001b[0m \u001b[32m71.3/71.3 kB\u001b[0m \u001b[31m5.7 MB/s\u001b[0m eta \u001b[36m0:00:00\u001b[0m\n",
            "\u001b[?25h  Preparing metadata (setup.py) ... \u001b[?25l\u001b[?25hdone\n",
            "Requirement already satisfied: autograd>=1.3 in /usr/local/lib/python3.11/dist-packages (1.8.0)\n",
            "Requirement already satisfied: networkx>=2.4 in /usr/local/lib/python3.11/dist-packages (3.5)\n",
            "Requirement already satisfied: numpy>=1.7 in /usr/local/lib/python3.11/dist-packages (from paramz==0.9.5) (2.0.2)\n",
            "Requirement already satisfied: scipy in /usr/local/lib/python3.11/dist-packages (from paramz==0.9.5) (1.16.1)\n",
            "Requirement already satisfied: six in /usr/local/lib/python3.11/dist-packages (from paramz==0.9.5) (1.17.0)\n",
            "Requirement already satisfied: decorator>=4.0.10 in /usr/local/lib/python3.11/dist-packages (from paramz==0.9.5) (4.4.2)\n",
            "Building wheels for collected packages: paramz\n",
            "  Building wheel for paramz (setup.py) ... \u001b[?25l\u001b[?25hdone\n",
            "  Created wheel for paramz: filename=paramz-0.9.5-py3-none-any.whl size=102629 sha256=4f39ce724d17d42ed31a987ab001a889f546b961b1be6e5f7cfa237cf235bdb4\n",
            "  Stored in directory: /root/.cache/pip/wheels/24/6d/70/e0b366420ee3af822da14e36ea72ced54dd09f6e44e0afb772\n",
            "Successfully built paramz\n",
            "Installing collected packages: paramz\n",
            "  Attempting uninstall: paramz\n",
            "    Found existing installation: paramz 0.9.6\n",
            "    Uninstalling paramz-0.9.6:\n",
            "      Successfully uninstalled paramz-0.9.6\n",
            "Successfully installed paramz-0.9.5\n"
          ]
        }
      ],
      "source": [
        "import os\n",
        "!pip install 'paramz==0.9.5' 'autograd>=1.3' 'networkx>=2.4'\n",
        "args = os.getenv(\"ARGS\", \"release real\").split(\" \")\n",
        "release = args[0]\n",
        "arch = args[1]"
      ]
    },
    {
      "cell_type": "code",
      "source": [
        "from google.colab import drive\n",
        "import sys\n",
        "drive.mount('/content/drive')\n",
        "sys.path.append('/content/drive/MyDrive/MAKING KERNEL PICTURES')"
      ],
      "metadata": {
        "colab": {
          "base_uri": "https://localhost:8080/"
        },
        "id": "u0rvNWHOiwYM",
        "outputId": "ced235bd-f697-4c48-8fa3-52d373fbd531"
      },
      "id": "u0rvNWHOiwYM",
      "execution_count": 13,
      "outputs": [
        {
          "output_type": "stream",
          "name": "stdout",
          "text": [
            "Drive already mounted at /content/drive; to attempt to forcibly remount, call drive.mount(\"/content/drive\", force_remount=True).\n"
          ]
        }
      ]
    },
    {
      "cell_type": "code",
      "execution_count": 14,
      "id": "mediterranean-century",
      "metadata": {
        "id": "mediterranean-century"
      },
      "outputs": [],
      "source": [
        "try:\n",
        "    import google.colab  # noqa: F401\n",
        "except ImportError:\n",
        "    import firedrake\n",
        "else:\n",
        "    try:\n",
        "        import firedrake\n",
        "    except ImportError:\n",
        "        if release != \"development\":\n",
        "            if arch != \"complex\":\n",
        "                !wget \"https://fem-on-colab.github.io/releases/firedrake-install-release-real.sh\" -O \"/tmp/firedrake-install.sh\" && bash \"/tmp/firedrake-install.sh\"\n",
        "            else:\n",
        "                !wget \"https://fem-on-colab.github.io/releases/firedrake-install-release-complex.sh\" -O \"/tmp/firedrake-install.sh\" && bash \"/tmp/firedrake-install.sh\"\n",
        "        else:\n",
        "            if arch != \"complex\":\n",
        "                !wget \"https://fem-on-colab.github.io/releases/firedrake-install-development-real.sh\" -O \"/tmp/firedrake-install.sh\" && bash \"/tmp/firedrake-install.sh\"\n",
        "            else:\n",
        "                !wget \"https://fem-on-colab.github.io/releases/firedrake-install-development-complex.sh\" -O \"/tmp/firedrake-install.sh\" && bash \"/tmp/firedrake-install.sh\"\n",
        "        import firedrake"
      ]
    },
    {
      "cell_type": "code",
      "source": [
        "from firedrake import Mesh, FunctionSpace\n",
        "import numpy as np\n",
        "import numpy\n",
        "import os\n",
        "\n",
        "from manifold_matern.cli import argument_parser\n",
        "from manifold_matern.manifold_matern_gp import ManifoldMaternGP\n",
        "from manifold_matern.laplace_eigenvalues import get_eigenpairs\n",
        "\n",
        "from manifold_matern.utils import export_fun, construct_mesh_graph, \\\n",
        "    convert_to_firedrake_function\n",
        "\n",
        "\n",
        "\n",
        "\n",
        "def construct_ground_truth(mesh):\n",
        "    import networkx as nx\n",
        "\n",
        "    mesh_graph = construct_mesh_graph(mesh)\n",
        "\n",
        "    geodesics = nx.shortest_path_length(mesh_graph, source=0, weight='weight')\n",
        "\n",
        "    N = mesh.num_vertices()\n",
        "\n",
        "    ground_truth = np.zeros((N))\n",
        "    period = 2*np.pi / 0.3 * 2\n",
        "    for i in range(N):\n",
        "        ground_truth[i] = 2 * np.sin(geodesics.get(i) * period + 0.3)\n",
        "\n",
        "    return ground_truth\n",
        "\n",
        "\n",
        "if __name__ == '__main__':\n",
        "    parser = argument_parser()\n",
        "    args = parser.parse_args()\n",
        "\n",
        "    mesh = Mesh('resources/meshes/dragon_connected.msh', dim=3)\n",
        "    num_eigenpairs = args.num_eigenpairs\n",
        "\n",
        "    print('Constructing ground truth. It may take a while')\n",
        "    ground_truth = construct_ground_truth(mesh)\n",
        "\n",
        "    mayavi_installed = False\n",
        "    if args.mayavi:\n",
        "        try:\n",
        "            import manifold_matern.plotting\n",
        "            mayavi_installed = True\n",
        "        except ImportError:\n",
        "            import warnings\n",
        "            warnings.warn('Mayavi does not seem to be installed.\\n'\n",
        "                          'No mayavi-based plotting will occur.',\n",
        "                          RuntimeWarning)\n",
        "\n",
        "    V = FunctionSpace(mesh, \"Lagrange\", 1)\n",
        "\n",
        "    if args.eigenpairs_file is None:\n",
        "        print('Getting eigenpairs. It may take a while')\n",
        "        eigenpairs = get_eigenpairs(mesh, V, num_eigvals=num_eigenpairs,\n",
        "                                    eps_target=1e-10)\n",
        "    else:\n",
        "        print('Reading eigenpairs from a file')\n",
        "        eigenpairs_ = np.load(args.eigenpairs_file)\n",
        "        eigenpairs = (eigenpairs_[:, 0],\n",
        "                      eigenpairs_[:, 1:])\n",
        "\n",
        "    X = [3316, 10960, 24947, 33498, 33513, 34844, 35740, 35830, 36026,\n",
        "         36654, 36727, 37597, 39066, 39886, 40050, 41165, 41387, 41430,\n",
        "         42420, 43012, 43383, 45296, 45796, 47431, 48346, 48779, 49033,\n",
        "         49127, 50374, 50878, 51132, 51132, 51168, 51175, 55643, 55863,\n",
        "         56414, 56568, 56933, 57130, 57168, 57536, 60028, 61432, 61915,\n",
        "         62936, 63657, 64280, 64542, 75551, 87643, 95423]\n",
        "    Y = ground_truth[X]\n",
        "\n",
        "    gp = ManifoldMaternGP(mesh, V, X, Y, eigenpairs)\n",
        "    gp.kappa.constrain_bounded(0.01, 5.0)\n",
        "    gp.sigma_n.fix(1e-15)\n",
        "    gp.sigma_f.constrain_bounded(1., 100000.0)\n",
        "\n",
        "    if args.seed is not None:\n",
        "        print('Setting seed %d' % args.seed)\n",
        "        np.random.seed(args.seed)\n",
        "\n",
        "    print('Optimizing MLL. It may take a while')\n",
        "    gp.optimize_restarts(num_restarts=5)\n",
        "\n",
        "    print('Optimization finished. Proceeding to output')\n",
        "    mean, variance = gp.predict()\n",
        "    std = np.nan_to_num(np.sqrt(variance))\n",
        "    samples = gp.posterior_samples(args.num_samples)\n",
        "\n",
        "    output_dir = args.output_dir\n",
        "    if not os.path.exists(output_dir):\n",
        "        os.makedirs(output_dir)\n",
        "\n",
        "    export_fun(os.path.join(output_dir, '0_groud_truth.pvd'),\n",
        "               convert_to_firedrake_function(V, ground_truth))\n",
        "    export_fun(os.path.join(output_dir, '0_mean.pvd'),\n",
        "               convert_to_firedrake_function(V, mean))\n",
        "    export_fun(os.path.join(output_dir, '0_std.pvd'),\n",
        "               convert_to_firedrake_function(V, std))\n",
        "\n",
        "    for s in range(len(samples)):\n",
        "        export_fun(os.path.join(output_dir, '0_sample_%d.pvd' % s),\n",
        "                   convert_to_firedrake_function(V, samples[s]))\n",
        "\n",
        "    if args.mayavi and mayavi_installed:\n",
        "        from manifold_matern.plotting import plot_example\n",
        "        vmin, vmax = -4., 4.\n",
        "        plot_example(os.path.join(output_dir, '1_ground_truth.png'),\n",
        "                     mesh, V, ground_truth, X, vmin, vmax)\n",
        "        plot_example(os.path.join(output_dir, '1_mean.png'),\n",
        "                     mesh, V, mean, X, vmin, vmax)\n",
        "        plot_example(os.path.join(output_dir, '1_std.png'),\n",
        "                     mesh, V, std, X, std.min(), std.max(), colormap='viridis')\n",
        "        for s in range(len(samples)):\n",
        "            plot_example(os.path.join(output_dir, '1_sample_%d.png' % s),\n",
        "                         mesh, V, samples[s], X, vmin, vmax)\n"
      ],
      "metadata": {
        "id": "R33IexNBfqRM",
        "colab": {
          "base_uri": "https://localhost:8080/",
          "height": 529
        },
        "outputId": "9ba5f074-17fe-475c-c48d-c72029735ecc"
      },
      "id": "R33IexNBfqRM",
      "execution_count": 18,
      "outputs": [
        {
          "output_type": "error",
          "ename": "ModuleNotFoundError",
          "evalue": "No module named 'numpy.lib.function_base'",
          "traceback": [
            "\u001b[0;31m---------------------------------------------------------------------------\u001b[0m",
            "\u001b[0;31mModuleNotFoundError\u001b[0m                       Traceback (most recent call last)",
            "\u001b[0;32m/tmp/ipython-input-3204341338.py\u001b[0m in \u001b[0;36m<cell line: 0>\u001b[0;34m()\u001b[0m\n\u001b[1;32m      4\u001b[0m \u001b[0;32mimport\u001b[0m \u001b[0mos\u001b[0m\u001b[0;34m\u001b[0m\u001b[0;34m\u001b[0m\u001b[0m\n\u001b[1;32m      5\u001b[0m \u001b[0;34m\u001b[0m\u001b[0m\n\u001b[0;32m----> 6\u001b[0;31m \u001b[0;32mfrom\u001b[0m \u001b[0mmanifold_matern\u001b[0m\u001b[0;34m.\u001b[0m\u001b[0mcli\u001b[0m \u001b[0;32mimport\u001b[0m \u001b[0margument_parser\u001b[0m\u001b[0;34m\u001b[0m\u001b[0;34m\u001b[0m\u001b[0m\n\u001b[0m\u001b[1;32m      7\u001b[0m \u001b[0;32mfrom\u001b[0m \u001b[0mmanifold_matern\u001b[0m\u001b[0;34m.\u001b[0m\u001b[0mmanifold_matern_gp\u001b[0m \u001b[0;32mimport\u001b[0m \u001b[0mManifoldMaternGP\u001b[0m\u001b[0;34m\u001b[0m\u001b[0;34m\u001b[0m\u001b[0m\n\u001b[1;32m      8\u001b[0m \u001b[0;32mfrom\u001b[0m \u001b[0mmanifold_matern\u001b[0m\u001b[0;34m.\u001b[0m\u001b[0mlaplace_eigenvalues\u001b[0m \u001b[0;32mimport\u001b[0m \u001b[0mget_eigenpairs\u001b[0m\u001b[0;34m\u001b[0m\u001b[0;34m\u001b[0m\u001b[0m\n",
            "\u001b[0;32m/content/drive/MyDrive/MAKING KERNEL PICTURES/manifold_matern/__init__.py\u001b[0m in \u001b[0;36m<module>\u001b[0;34m\u001b[0m\n\u001b[1;32m      3\u001b[0m \"\"\"\n\u001b[1;32m      4\u001b[0m \u001b[0;34m\u001b[0m\u001b[0m\n\u001b[0;32m----> 5\u001b[0;31m \u001b[0;32mfrom\u001b[0m \u001b[0;34m.\u001b[0m\u001b[0mmanifold_matern_gp\u001b[0m \u001b[0;32mimport\u001b[0m \u001b[0mManifoldMaternGP\u001b[0m\u001b[0;34m\u001b[0m\u001b[0;34m\u001b[0m\u001b[0m\n\u001b[0m\u001b[1;32m      6\u001b[0m \u001b[0;32mfrom\u001b[0m \u001b[0;34m.\u001b[0m\u001b[0mlaplace_eigenvalues\u001b[0m \u001b[0;32mimport\u001b[0m \u001b[0mget_eigenpairs\u001b[0m\u001b[0;34m\u001b[0m\u001b[0;34m\u001b[0m\u001b[0m\n",
            "\u001b[0;32m/content/drive/MyDrive/MAKING KERNEL PICTURES/manifold_matern/manifold_matern_gp.py\u001b[0m in \u001b[0;36m<module>\u001b[0;34m\u001b[0m\n\u001b[1;32m      1\u001b[0m \u001b[0;34m\"\"\" Riemannian Manifold Gaussian Processes. \"\"\"\u001b[0m\u001b[0;34m\u001b[0m\u001b[0;34m\u001b[0m\u001b[0m\n\u001b[1;32m      2\u001b[0m \u001b[0;34m\u001b[0m\u001b[0m\n\u001b[0;32m----> 3\u001b[0;31m \u001b[0;32mimport\u001b[0m \u001b[0mparamz\u001b[0m\u001b[0;34m\u001b[0m\u001b[0;34m\u001b[0m\u001b[0m\n\u001b[0m\u001b[1;32m      4\u001b[0m \u001b[0;32mimport\u001b[0m \u001b[0mautograd\u001b[0m\u001b[0;34m.\u001b[0m\u001b[0mnumpy\u001b[0m \u001b[0;32mas\u001b[0m \u001b[0mnp\u001b[0m\u001b[0;34m\u001b[0m\u001b[0;34m\u001b[0m\u001b[0m\n\u001b[1;32m      5\u001b[0m \u001b[0;32mfrom\u001b[0m \u001b[0mautograd\u001b[0m\u001b[0;34m.\u001b[0m\u001b[0mscipy\u001b[0m\u001b[0;34m.\u001b[0m\u001b[0mlinalg\u001b[0m \u001b[0;32mimport\u001b[0m \u001b[0msolve_triangular\u001b[0m\u001b[0;34m\u001b[0m\u001b[0;34m\u001b[0m\u001b[0m\n",
            "\u001b[0;32m/usr/local/lib/python3.11/dist-packages/paramz/__init__.py\u001b[0m in \u001b[0;36m<module>\u001b[0;34m\u001b[0m\n\u001b[1;32m     32\u001b[0m \u001b[0;34m\u001b[0m\u001b[0m\n\u001b[1;32m     33\u001b[0m \u001b[0;32mfrom\u001b[0m \u001b[0;34m.\u001b[0m \u001b[0;32mimport\u001b[0m \u001b[0mutil\u001b[0m\u001b[0;34m\u001b[0m\u001b[0;34m\u001b[0m\u001b[0m\n\u001b[0;32m---> 34\u001b[0;31m \u001b[0;32mfrom\u001b[0m \u001b[0;34m.\u001b[0m\u001b[0mmodel\u001b[0m \u001b[0;32mimport\u001b[0m \u001b[0mModel\u001b[0m\u001b[0;34m\u001b[0m\u001b[0;34m\u001b[0m\u001b[0m\n\u001b[0m\u001b[1;32m     35\u001b[0m \u001b[0;32mfrom\u001b[0m \u001b[0;34m.\u001b[0m\u001b[0mparameterized\u001b[0m \u001b[0;32mimport\u001b[0m \u001b[0mParameterized\u001b[0m\u001b[0;34m\u001b[0m\u001b[0;34m\u001b[0m\u001b[0m\n\u001b[1;32m     36\u001b[0m \u001b[0;32mfrom\u001b[0m \u001b[0;34m.\u001b[0m\u001b[0mparam\u001b[0m \u001b[0;32mimport\u001b[0m \u001b[0mParam\u001b[0m\u001b[0;34m\u001b[0m\u001b[0;34m\u001b[0m\u001b[0m\n",
            "\u001b[0;32m/usr/local/lib/python3.11/dist-packages/paramz/model.py\u001b[0m in \u001b[0;36m<module>\u001b[0;34m\u001b[0m\n\u001b[1;32m     37\u001b[0m \u001b[0;34m\u001b[0m\u001b[0m\n\u001b[1;32m     38\u001b[0m \u001b[0;32mfrom\u001b[0m \u001b[0;34m.\u001b[0m \u001b[0;32mimport\u001b[0m \u001b[0moptimization\u001b[0m\u001b[0;34m\u001b[0m\u001b[0;34m\u001b[0m\u001b[0m\n\u001b[0;32m---> 39\u001b[0;31m \u001b[0;32mfrom\u001b[0m \u001b[0;34m.\u001b[0m\u001b[0mparameterized\u001b[0m \u001b[0;32mimport\u001b[0m \u001b[0mParameterized\u001b[0m\u001b[0;34m\u001b[0m\u001b[0;34m\u001b[0m\u001b[0m\n\u001b[0m\u001b[1;32m     40\u001b[0m \u001b[0;32mfrom\u001b[0m \u001b[0;34m.\u001b[0m\u001b[0moptimization\u001b[0m\u001b[0;34m.\u001b[0m\u001b[0mverbose_optimization\u001b[0m \u001b[0;32mimport\u001b[0m \u001b[0mVerboseOptimization\u001b[0m\u001b[0;34m\u001b[0m\u001b[0;34m\u001b[0m\u001b[0m\n\u001b[1;32m     41\u001b[0m \u001b[0;32mimport\u001b[0m \u001b[0mmultiprocessing\u001b[0m \u001b[0;32mas\u001b[0m \u001b[0mmp\u001b[0m\u001b[0;34m\u001b[0m\u001b[0;34m\u001b[0m\u001b[0m\n",
            "\u001b[0;32m/usr/local/lib/python3.11/dist-packages/paramz/parameterized.py\u001b[0m in \u001b[0;36m<module>\u001b[0;34m\u001b[0m\n\u001b[1;32m     37\u001b[0m     \u001b[0;32mfrom\u001b[0m \u001b[0mre\u001b[0m \u001b[0;32mimport\u001b[0m \u001b[0mPattern\u001b[0m \u001b[0;32mas\u001b[0m \u001b[0m_pattern_type\u001b[0m\u001b[0;34m\u001b[0m\u001b[0;34m\u001b[0m\u001b[0m\n\u001b[1;32m     38\u001b[0m \u001b[0;34m\u001b[0m\u001b[0m\n\u001b[0;32m---> 39\u001b[0;31m \u001b[0;32mfrom\u001b[0m \u001b[0;34m.\u001b[0m\u001b[0mcore\u001b[0m\u001b[0;34m.\u001b[0m\u001b[0mparameter_core\u001b[0m \u001b[0;32mimport\u001b[0m \u001b[0mParameterizable\u001b[0m\u001b[0;34m,\u001b[0m \u001b[0madjust_name_for_printing\u001b[0m\u001b[0;34m\u001b[0m\u001b[0;34m\u001b[0m\u001b[0m\n\u001b[0m\u001b[1;32m     40\u001b[0m \u001b[0;32mfrom\u001b[0m \u001b[0;34m.\u001b[0m\u001b[0mcore\u001b[0m \u001b[0;32mimport\u001b[0m \u001b[0mHierarchyError\u001b[0m\u001b[0;34m\u001b[0m\u001b[0;34m\u001b[0m\u001b[0m\n\u001b[1;32m     41\u001b[0m \u001b[0;34m\u001b[0m\u001b[0m\n",
            "\u001b[0;32m/usr/local/lib/python3.11/dist-packages/paramz/core/__init__.py\u001b[0m in \u001b[0;36m<module>\u001b[0;34m\u001b[0m\n\u001b[1;32m     44\u001b[0m     \u001b[0;32mpass\u001b[0m\u001b[0;34m\u001b[0m\u001b[0;34m\u001b[0m\u001b[0m\n\u001b[1;32m     45\u001b[0m \u001b[0;34m\u001b[0m\u001b[0m\n\u001b[0;32m---> 46\u001b[0;31m \u001b[0;32mfrom\u001b[0m \u001b[0;34m.\u001b[0m \u001b[0;32mimport\u001b[0m \u001b[0mindex_operations\u001b[0m\u001b[0;34m,\u001b[0m \u001b[0mlists_and_dicts\u001b[0m\u001b[0;34m,\u001b[0m \u001b[0mobservable\u001b[0m\u001b[0;34m,\u001b[0m \u001b[0mobservable_array\u001b[0m\u001b[0;34m,\u001b[0m \u001b[0mparameter_core\u001b[0m\u001b[0;34m,\u001b[0m \u001b[0mupdateable\u001b[0m\u001b[0;34m\u001b[0m\u001b[0;34m\u001b[0m\u001b[0m\n\u001b[0m\u001b[1;32m     47\u001b[0m \u001b[0;32mfrom\u001b[0m \u001b[0mparamz\u001b[0m \u001b[0;32mimport\u001b[0m \u001b[0mdomains\u001b[0m\u001b[0;34m\u001b[0m\u001b[0;34m\u001b[0m\u001b[0m\n\u001b[1;32m     48\u001b[0m \u001b[0;32mfrom\u001b[0m \u001b[0mparamz\u001b[0m \u001b[0;32mimport\u001b[0m \u001b[0mtransformations\u001b[0m\u001b[0;34m\u001b[0m\u001b[0;34m\u001b[0m\u001b[0m\n",
            "\u001b[0;32m/usr/local/lib/python3.11/dist-packages/paramz/core/index_operations.py\u001b[0m in \u001b[0;36m<module>\u001b[0;34m\u001b[0m\n\u001b[1;32m     30\u001b[0m \u001b[0;34m\u001b[0m\u001b[0m\n\u001b[1;32m     31\u001b[0m \u001b[0;32mimport\u001b[0m \u001b[0mnumpy\u001b[0m\u001b[0;34m\u001b[0m\u001b[0;34m\u001b[0m\u001b[0m\n\u001b[0;32m---> 32\u001b[0;31m \u001b[0;32mfrom\u001b[0m \u001b[0mnumpy\u001b[0m\u001b[0;34m.\u001b[0m\u001b[0mlib\u001b[0m\u001b[0;34m.\u001b[0m\u001b[0mfunction_base\u001b[0m \u001b[0;32mimport\u001b[0m \u001b[0mvectorize\u001b[0m\u001b[0;34m\u001b[0m\u001b[0;34m\u001b[0m\u001b[0m\n\u001b[0m\u001b[1;32m     33\u001b[0m \u001b[0;32mfrom\u001b[0m \u001b[0;34m.\u001b[0m\u001b[0mlists_and_dicts\u001b[0m \u001b[0;32mimport\u001b[0m \u001b[0mIntArrayDict\u001b[0m\u001b[0;34m\u001b[0m\u001b[0;34m\u001b[0m\u001b[0m\n\u001b[1;32m     34\u001b[0m \u001b[0;32mfrom\u001b[0m \u001b[0mfunctools\u001b[0m \u001b[0;32mimport\u001b[0m \u001b[0mreduce\u001b[0m\u001b[0;34m\u001b[0m\u001b[0;34m\u001b[0m\u001b[0m\n",
            "\u001b[0;31mModuleNotFoundError\u001b[0m: No module named 'numpy.lib.function_base'",
            "",
            "\u001b[0;31m---------------------------------------------------------------------------\u001b[0;32m\nNOTE: If your import is failing due to a missing package, you can\nmanually install dependencies using either !pip or !apt.\n\nTo view examples of installing some common dependencies, click the\n\"Open Examples\" button below.\n\u001b[0;31m---------------------------------------------------------------------------\u001b[0m\n"
          ],
          "errorDetails": {
            "actions": [
              {
                "action": "open_url",
                "actionText": "Open Examples",
                "url": "/notebooks/snippets/importing_libraries.ipynb"
              }
            ]
          }
        }
      ]
    }
  ],
  "metadata": {
    "kernelspec": {
      "display_name": "Python 3 (ipykernel)",
      "language": "python",
      "name": "python3"
    },
    "language_info": {
      "codemirror_mode": {
        "name": "ipython"
      },
      "file_extension": ".py",
      "mimetype": "text/x-python",
      "name": "python",
      "nbconvert_exporter": "python"
    },
    "colab": {
      "provenance": []
    }
  },
  "nbformat": 4,
  "nbformat_minor": 5
}