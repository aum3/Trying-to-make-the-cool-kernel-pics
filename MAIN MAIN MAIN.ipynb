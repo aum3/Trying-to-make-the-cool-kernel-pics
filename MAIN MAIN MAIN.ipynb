{
  "cells": [
    {
      "cell_type": "code",
      "execution_count": 2,
      "id": "eec913ed",
      "metadata": {
        "id": "eec913ed",
        "colab": {
          "base_uri": "https://localhost:8080/",
          "height": 408
        },
        "outputId": "2ad5dd71-796c-4cb8-9d1b-315b2c960d18"
      },
      "outputs": [
        {
          "output_type": "stream",
          "name": "stdout",
          "text": [
            "Requirement already satisfied: paramz>=0.9.5 in /usr/local/lib/python3.11/dist-packages (0.9.5)\n",
            "Requirement already satisfied: autograd>=1.3 in /usr/local/lib/python3.11/dist-packages (1.8.0)\n",
            "Requirement already satisfied: networkx>=2.4 in /usr/local/lib/python3.11/dist-packages (3.5)\n",
            "Collecting numpy<2.1,>=1.26.0\n",
            "  Downloading numpy-2.0.2-cp311-cp311-manylinux_2_17_x86_64.manylinux2014_x86_64.whl.metadata (60 kB)\n",
            "\u001b[2K     \u001b[90m━━━━━━━━━━━━━━━━━━━━━━━━━━━━━━━━━━━━━━━━\u001b[0m \u001b[32m60.9/60.9 kB\u001b[0m \u001b[31m3.4 MB/s\u001b[0m eta \u001b[36m0:00:00\u001b[0m\n",
            "\u001b[?25hRequirement already satisfied: scipy in /usr/local/lib/python3.11/dist-packages (from paramz>=0.9.5) (1.16.1)\n",
            "Requirement already satisfied: six in /usr/local/lib/python3.11/dist-packages (from paramz>=0.9.5) (1.17.0)\n",
            "Requirement already satisfied: decorator>=4.0.10 in /usr/local/lib/python3.11/dist-packages (from paramz>=0.9.5) (4.4.2)\n",
            "Downloading numpy-2.0.2-cp311-cp311-manylinux_2_17_x86_64.manylinux2014_x86_64.whl (19.5 MB)\n",
            "\u001b[2K   \u001b[90m━━━━━━━━━━━━━━━━━━━━━━━━━━━━━━━━━━━━━━━━\u001b[0m \u001b[32m19.5/19.5 MB\u001b[0m \u001b[31m62.3 MB/s\u001b[0m eta \u001b[36m0:00:00\u001b[0m\n",
            "\u001b[?25hInstalling collected packages: numpy\n",
            "  Attempting uninstall: numpy\n",
            "    Found existing installation: numpy 2.3.2\n",
            "    Uninstalling numpy-2.3.2:\n",
            "      Successfully uninstalled numpy-2.3.2\n",
            "Successfully installed numpy-2.0.2\n"
          ]
        },
        {
          "output_type": "display_data",
          "data": {
            "application/vnd.colab-display-data+json": {
              "pip_warning": {
                "packages": [
                  "numpy"
                ]
              },
              "id": "7674e5349b02490795e61fdeb61d23a4"
            }
          },
          "metadata": {}
        }
      ],
      "source": [
        "import os\n",
        "# !pip uninstall numpy -y\n",
        "!pip install 'paramz>=0.9.5' 'autograd>=1.3' 'networkx>=2.4' 'numpy>=1.26.0,<2.1'\n",
        "#!pip install 'numpy == 1.22'\n",
        "#The numpy version must be below or equal to 1.2\n",
        "args = os.getenv(\"ARGS\", \"release real\").split(\" \")\n",
        "release = args[0]\n",
        "arch = args[1]\n",
        "\n"
      ]
    },
    {
      "cell_type": "markdown",
      "source": [],
      "metadata": {
        "id": "Co2LH3DOrxcb"
      },
      "id": "Co2LH3DOrxcb"
    },
    {
      "cell_type": "code",
      "source": [
        "from google.colab import drive\n",
        "import sys\n",
        "drive.mount('/content/drive')\n",
        "sys.path.append('/content/drive/MyDrive/MAKING KERNEL PICTURES')"
      ],
      "metadata": {
        "colab": {
          "base_uri": "https://localhost:8080/"
        },
        "id": "u0rvNWHOiwYM",
        "outputId": "847f497e-a1fc-43ca-ab3b-34312f435819"
      },
      "id": "u0rvNWHOiwYM",
      "execution_count": 14,
      "outputs": [
        {
          "output_type": "stream",
          "name": "stdout",
          "text": [
            "Drive already mounted at /content/drive; to attempt to forcibly remount, call drive.mount(\"/content/drive\", force_remount=True).\n"
          ]
        }
      ]
    },
    {
      "cell_type": "code",
      "execution_count": 15,
      "id": "mediterranean-century",
      "metadata": {
        "id": "mediterranean-century"
      },
      "outputs": [],
      "source": [
        "try:\n",
        "    import google.colab  # noqa: F401\n",
        "except ImportError:\n",
        "    import firedrake\n",
        "else:\n",
        "    try:\n",
        "        import firedrake\n",
        "    except ImportError:\n",
        "        if release != \"development\":\n",
        "            if arch != \"complex\":\n",
        "                !wget \"https://fem-on-colab.github.io/releases/firedrake-install-release-real.sh\" -O \"/tmp/firedrake-install.sh\" && bash \"/tmp/firedrake-install.sh\"\n",
        "            else:\n",
        "                !wget \"https://fem-on-colab.github.io/releases/firedrake-install-release-complex.sh\" -O \"/tmp/firedrake-install.sh\" && bash \"/tmp/firedrake-install.sh\"\n",
        "        else:\n",
        "            if arch != \"complex\":\n",
        "                !wget \"https://fem-on-colab.github.io/releases/firedrake-install-development-real.sh\" -O \"/tmp/firedrake-install.sh\" && bash \"/tmp/firedrake-install.sh\"\n",
        "            else:\n",
        "                !wget \"https://fem-on-colab.github.io/releases/firedrake-install-development-complex.sh\" -O \"/tmp/firedrake-install.sh\" && bash \"/tmp/firedrake-install.sh\"\n",
        "        import firedrake"
      ]
    },
    {
      "cell_type": "code",
      "source": [
        "from firedrake import Mesh, FunctionSpace\n",
        "import os\n",
        "\n",
        "from manifold_matern.cli import argument_parser\n",
        "from manifold_matern.manifold_matern_gp import ManifoldMaternGP\n",
        "from manifold_matern.laplace_eigenvalues import get_eigenpairs\n",
        "\n",
        "from manifold_matern.utils import export_fun, construct_mesh_graph, \\\n",
        "    convert_to_firedrake_function\n",
        "\n",
        "\n",
        "\n",
        "\n",
        "def construct_ground_truth(mesh):\n",
        "    import networkx as nx\n",
        "\n",
        "    mesh_graph = construct_mesh_graph(mesh)\n",
        "\n",
        "    geodesics = nx.shortest_path_length(mesh_graph, source=0, weight='weight')\n",
        "\n",
        "    N = mesh.num_vertices()\n",
        "\n",
        "    ground_truth = np.zeros((N))\n",
        "    period = 2*np.pi / 0.3 * 2\n",
        "    for i in range(N):\n",
        "        ground_truth[i] = 2 * np.sin(geodesics.get(i) * period + 0.3)\n",
        "\n",
        "    return ground_truth\n",
        "\n",
        "\n",
        "if __name__ == '__main__':\n",
        "    parser = argument_parser()\n",
        "    args = parser.parse_args()\n",
        "\n",
        "    mesh = Mesh('resources/meshes/dragon_connected.msh', dim=3)\n",
        "    num_eigenpairs = args.num_eigenpairs\n",
        "\n",
        "    print('Constructing ground truth. It may take a while')\n",
        "    ground_truth = construct_ground_truth(mesh)\n",
        "\n",
        "    mayavi_installed = False\n",
        "    if args.mayavi:\n",
        "        try:\n",
        "            import manifold_matern.plotting\n",
        "            mayavi_installed = True\n",
        "        except ImportError:\n",
        "            import warnings\n",
        "            warnings.warn('Mayavi does not seem to be installed.\\n'\n",
        "                          'No mayavi-based plotting will occur.',\n",
        "                          RuntimeWarning)\n",
        "\n",
        "    V = FunctionSpace(mesh, \"Lagrange\", 1)\n",
        "\n",
        "    if args.eigenpairs_file is None:\n",
        "        print('Getting eigenpairs. It may take a while')\n",
        "        eigenpairs = get_eigenpairs(mesh, V, num_eigvals=num_eigenpairs,\n",
        "                                    eps_target=1e-10)\n",
        "    else:\n",
        "        print('Reading eigenpairs from a file')\n",
        "        eigenpairs_ = np.load(args.eigenpairs_file)\n",
        "        eigenpairs = (eigenpairs_[:, 0],\n",
        "                      eigenpairs_[:, 1:])\n",
        "\n",
        "    X = [3316, 10960, 24947, 33498, 33513, 34844, 35740, 35830, 36026,\n",
        "         36654, 36727, 37597, 39066, 39886, 40050, 41165, 41387, 41430,\n",
        "         42420, 43012, 43383, 45296, 45796, 47431, 48346, 48779, 49033,\n",
        "         49127, 50374, 50878, 51132, 51132, 51168, 51175, 55643, 55863,\n",
        "         56414, 56568, 56933, 57130, 57168, 57536, 60028, 61432, 61915,\n",
        "         62936, 63657, 64280, 64542, 75551, 87643, 95423]\n",
        "    Y = ground_truth[X]\n",
        "\n",
        "    gp = ManifoldMaternGP(mesh, V, X, Y, eigenpairs)\n",
        "    gp.kappa.constrain_bounded(0.01, 5.0)\n",
        "    gp.sigma_n.fix(1e-15)\n",
        "    gp.sigma_f.constrain_bounded(1., 100000.0)\n",
        "\n",
        "    if args.seed is not None:\n",
        "        print('Setting seed %d' % args.seed)\n",
        "        np.random.seed(args.seed)\n",
        "\n",
        "    print('Optimizing MLL. It may take a while')\n",
        "    gp.optimize_restarts(num_restarts=5)\n",
        "\n",
        "    print('Optimization finished. Proceeding to output')\n",
        "    mean, variance = gp.predict()\n",
        "    std = np.nan_to_num(np.sqrt(variance))\n",
        "    samples = gp.posterior_samples(args.num_samples)\n",
        "\n",
        "    output_dir = args.output_dir\n",
        "    if not os.path.exists(output_dir):\n",
        "        os.makedirs(output_dir)\n",
        "\n",
        "    export_fun(os.path.join(output_dir, '0_groud_truth.pvd'),\n",
        "               convert_to_firedrake_function(V, ground_truth))\n",
        "    export_fun(os.path.join(output_dir, '0_mean.pvd'),\n",
        "               convert_to_firedrake_function(V, mean))\n",
        "    export_fun(os.path.join(output_dir, '0_std.pvd'),\n",
        "               convert_to_firedrake_function(V, std))\n",
        "\n",
        "    for s in range(len(samples)):\n",
        "        export_fun(os.path.join(output_dir, '0_sample_%d.pvd' % s),\n",
        "                   convert_to_firedrake_function(V, samples[s]))\n",
        "\n",
        "    if args.mayavi and mayavi_installed:\n",
        "        from manifold_matern.plotting import plot_example\n",
        "        vmin, vmax = -4., 4.\n",
        "        plot_example(os.path.join(output_dir, '1_ground_truth.png'),\n",
        "                     mesh, V, ground_truth, X, vmin, vmax)\n",
        "        plot_example(os.path.join(output_dir, '1_mean.png'),\n",
        "                     mesh, V, mean, X, vmin, vmax)\n",
        "        plot_example(os.path.join(output_dir, '1_std.png'),\n",
        "                     mesh, V, std, X, std.min(), std.max(), colormap='viridis')\n",
        "        for s in range(len(samples)):\n",
        "            plot_example(os.path.join(output_dir, '1_sample_%d.png' % s),\n",
        "                         mesh, V, samples[s], X, vmin, vmax)\n"
      ],
      "metadata": {
        "id": "R33IexNBfqRM",
        "colab": {
          "base_uri": "https://localhost:8080/",
          "height": 460
        },
        "outputId": "631a3d79-48d4-4986-88f3-d33a5f0ea6e0"
      },
      "id": "R33IexNBfqRM",
      "execution_count": 16,
      "outputs": [
        {
          "output_type": "stream",
          "name": "stdout",
          "text": [
            "Constructing ground truth. It may take a while\n"
          ]
        },
        {
          "output_type": "error",
          "ename": "AttributeError",
          "evalue": "module 'numpy' has no attribute 'int'.\n`np.int` was a deprecated alias for the builtin `int`. To avoid this error in existing code, use `int` by itself. Doing this will not modify any behavior and is safe. When replacing `np.int`, you may wish to use e.g. `np.int64` or `np.int32` to specify the precision. If you wish to review your current use, check the release note link for additional information.\nThe aliases was originally deprecated in NumPy 1.20; for more details and guidance see the original release note at:\n    https://numpy.org/devdocs/release/1.20.0-notes.html#deprecations",
          "traceback": [
            "\u001b[0;31m---------------------------------------------------------------------------\u001b[0m",
            "\u001b[0;31mAttributeError\u001b[0m                            Traceback (most recent call last)",
            "\u001b[0;32m/tmp/ipython-input-2863626183.py\u001b[0m in \u001b[0;36m<cell line: 0>\u001b[0;34m()\u001b[0m\n\u001b[1;32m     39\u001b[0m \u001b[0;34m\u001b[0m\u001b[0m\n\u001b[1;32m     40\u001b[0m     \u001b[0mprint\u001b[0m\u001b[0;34m(\u001b[0m\u001b[0;34m'Constructing ground truth. It may take a while'\u001b[0m\u001b[0;34m)\u001b[0m\u001b[0;34m\u001b[0m\u001b[0;34m\u001b[0m\u001b[0m\n\u001b[0;32m---> 41\u001b[0;31m     \u001b[0mground_truth\u001b[0m \u001b[0;34m=\u001b[0m \u001b[0mconstruct_ground_truth\u001b[0m\u001b[0;34m(\u001b[0m\u001b[0mmesh\u001b[0m\u001b[0;34m)\u001b[0m\u001b[0;34m\u001b[0m\u001b[0;34m\u001b[0m\u001b[0m\n\u001b[0m\u001b[1;32m     42\u001b[0m \u001b[0;34m\u001b[0m\u001b[0m\n\u001b[1;32m     43\u001b[0m     \u001b[0mmayavi_installed\u001b[0m \u001b[0;34m=\u001b[0m \u001b[0;32mFalse\u001b[0m\u001b[0;34m\u001b[0m\u001b[0;34m\u001b[0m\u001b[0m\n",
            "\u001b[0;32m/tmp/ipython-input-2863626183.py\u001b[0m in \u001b[0;36mconstruct_ground_truth\u001b[0;34m(mesh)\u001b[0m\n\u001b[1;32m     17\u001b[0m     \u001b[0;32mimport\u001b[0m \u001b[0mnetworkx\u001b[0m \u001b[0;32mas\u001b[0m \u001b[0mnx\u001b[0m\u001b[0;34m\u001b[0m\u001b[0;34m\u001b[0m\u001b[0m\n\u001b[1;32m     18\u001b[0m \u001b[0;34m\u001b[0m\u001b[0m\n\u001b[0;32m---> 19\u001b[0;31m     \u001b[0mmesh_graph\u001b[0m \u001b[0;34m=\u001b[0m \u001b[0mconstruct_mesh_graph\u001b[0m\u001b[0;34m(\u001b[0m\u001b[0mmesh\u001b[0m\u001b[0;34m)\u001b[0m\u001b[0;34m\u001b[0m\u001b[0;34m\u001b[0m\u001b[0m\n\u001b[0m\u001b[1;32m     20\u001b[0m \u001b[0;34m\u001b[0m\u001b[0m\n\u001b[1;32m     21\u001b[0m     \u001b[0mgeodesics\u001b[0m \u001b[0;34m=\u001b[0m \u001b[0mnx\u001b[0m\u001b[0;34m.\u001b[0m\u001b[0mshortest_path_length\u001b[0m\u001b[0;34m(\u001b[0m\u001b[0mmesh_graph\u001b[0m\u001b[0;34m,\u001b[0m \u001b[0msource\u001b[0m\u001b[0;34m=\u001b[0m\u001b[0;36m0\u001b[0m\u001b[0;34m,\u001b[0m \u001b[0mweight\u001b[0m\u001b[0;34m=\u001b[0m\u001b[0;34m'weight'\u001b[0m\u001b[0;34m)\u001b[0m\u001b[0;34m\u001b[0m\u001b[0;34m\u001b[0m\u001b[0m\n",
            "\u001b[0;32m/content/drive/MyDrive/MAKING KERNEL PICTURES/manifold_matern/utils.py\u001b[0m in \u001b[0;36mconstruct_mesh_graph\u001b[0;34m(mesh)\u001b[0m\n\u001b[1;32m    142\u001b[0m         \u001b[0mcols\u001b[0m\u001b[0;34m[\u001b[0m\u001b[0;36m6\u001b[0m\u001b[0;34m*\u001b[0m\u001b[0mi\u001b[0m\u001b[0;34m+\u001b[0m\u001b[0;36m2\u001b[0m\u001b[0;34m]\u001b[0m \u001b[0;34m=\u001b[0m \u001b[0mrows\u001b[0m\u001b[0;34m[\u001b[0m\u001b[0;36m6\u001b[0m\u001b[0;34m*\u001b[0m\u001b[0mi\u001b[0m\u001b[0;34m+\u001b[0m\u001b[0;36m5\u001b[0m\u001b[0;34m]\u001b[0m \u001b[0;34m=\u001b[0m \u001b[0mtr\u001b[0m\u001b[0;34m[\u001b[0m\u001b[0;36m2\u001b[0m\u001b[0;34m]\u001b[0m\u001b[0;34m\u001b[0m\u001b[0;34m\u001b[0m\u001b[0m\n\u001b[1;32m    143\u001b[0m \u001b[0;34m\u001b[0m\u001b[0m\n\u001b[0;32m--> 144\u001b[0;31m     \u001b[0mdst\u001b[0m \u001b[0;34m=\u001b[0m \u001b[0mcoo_matrix\u001b[0m\u001b[0;34m(\u001b[0m\u001b[0;34m(\u001b[0m\u001b[0mdata\u001b[0m\u001b[0;34m,\u001b[0m \u001b[0;34m(\u001b[0m\u001b[0mrows\u001b[0m\u001b[0;34m.\u001b[0m\u001b[0mastype\u001b[0m\u001b[0;34m(\u001b[0m\u001b[0mnumpy\u001b[0m\u001b[0;34m.\u001b[0m\u001b[0mint\u001b[0m\u001b[0;34m)\u001b[0m\u001b[0;34m,\u001b[0m \u001b[0mcols\u001b[0m\u001b[0;34m.\u001b[0m\u001b[0mastype\u001b[0m\u001b[0;34m(\u001b[0m\u001b[0mnumpy\u001b[0m\u001b[0;34m.\u001b[0m\u001b[0mint\u001b[0m\u001b[0;34m)\u001b[0m\u001b[0;34m)\u001b[0m\u001b[0;34m)\u001b[0m\u001b[0;34m)\u001b[0m\u001b[0;34m\u001b[0m\u001b[0;34m\u001b[0m\u001b[0m\n\u001b[0m\u001b[1;32m    145\u001b[0m     \u001b[0mG\u001b[0m \u001b[0;34m=\u001b[0m \u001b[0mnx\u001b[0m\u001b[0;34m.\u001b[0m\u001b[0mGraph\u001b[0m\u001b[0;34m(\u001b[0m\u001b[0mdst\u001b[0m\u001b[0;34m)\u001b[0m\u001b[0;34m\u001b[0m\u001b[0;34m\u001b[0m\u001b[0m\n\u001b[1;32m    146\u001b[0m \u001b[0;34m\u001b[0m\u001b[0m\n",
            "\u001b[0;32m/usr/local/lib/python3.11/dist-packages/numpy/__init__.py\u001b[0m in \u001b[0;36m__getattr__\u001b[0;34m(attr)\u001b[0m\n\u001b[1;32m    322\u001b[0m \u001b[0;34m\u001b[0m\u001b[0m\n\u001b[1;32m    323\u001b[0m         \u001b[0;32mif\u001b[0m \u001b[0mattr\u001b[0m \u001b[0;32min\u001b[0m \u001b[0m__former_attrs__\u001b[0m\u001b[0;34m:\u001b[0m\u001b[0;34m\u001b[0m\u001b[0;34m\u001b[0m\u001b[0m\n\u001b[0;32m--> 324\u001b[0;31m             \u001b[0;32mraise\u001b[0m \u001b[0mAttributeError\u001b[0m\u001b[0;34m(\u001b[0m\u001b[0m__former_attrs__\u001b[0m\u001b[0;34m[\u001b[0m\u001b[0mattr\u001b[0m\u001b[0;34m]\u001b[0m\u001b[0;34m)\u001b[0m\u001b[0;34m\u001b[0m\u001b[0;34m\u001b[0m\u001b[0m\n\u001b[0m\u001b[1;32m    325\u001b[0m \u001b[0;34m\u001b[0m\u001b[0m\n\u001b[1;32m    326\u001b[0m         \u001b[0;32mif\u001b[0m \u001b[0mattr\u001b[0m \u001b[0;34m==\u001b[0m \u001b[0;34m'testing'\u001b[0m\u001b[0;34m:\u001b[0m\u001b[0;34m\u001b[0m\u001b[0;34m\u001b[0m\u001b[0m\n",
            "\u001b[0;31mAttributeError\u001b[0m: module 'numpy' has no attribute 'int'.\n`np.int` was a deprecated alias for the builtin `int`. To avoid this error in existing code, use `int` by itself. Doing this will not modify any behavior and is safe. When replacing `np.int`, you may wish to use e.g. `np.int64` or `np.int32` to specify the precision. If you wish to review your current use, check the release note link for additional information.\nThe aliases was originally deprecated in NumPy 1.20; for more details and guidance see the original release note at:\n    https://numpy.org/devdocs/release/1.20.0-notes.html#deprecations"
          ]
        }
      ]
    }
  ],
  "metadata": {
    "kernelspec": {
      "display_name": "Python 3 (ipykernel)",
      "language": "python",
      "name": "python3"
    },
    "language_info": {
      "codemirror_mode": {
        "name": "ipython"
      },
      "file_extension": ".py",
      "mimetype": "text/x-python",
      "name": "python",
      "nbconvert_exporter": "python"
    },
    "colab": {
      "provenance": []
    }
  },
  "nbformat": 4,
  "nbformat_minor": 5
}