{
  "cells": [
    {
      "cell_type": "code",
      "execution_count": 1,
      "id": "eec913ed",
      "metadata": {
        "id": "eec913ed",
        "colab": {
          "base_uri": "https://localhost:8080/"
        },
        "outputId": "c27f89c3-3837-4bd5-8126-5451a14ff242"
      },
      "outputs": [
        {
          "output_type": "stream",
          "name": "stdout",
          "text": [
            "Requirement already satisfied: paramz>=0.9.5 in /usr/local/lib/python3.11/dist-packages (0.9.5)\n",
            "Requirement already satisfied: autograd>=1.3 in /usr/local/lib/python3.11/dist-packages (1.8.0)\n",
            "Requirement already satisfied: networkx>=2.4 in /usr/local/lib/python3.11/dist-packages (3.5)\n",
            "Collecting numpy==1.9\n",
            "  Downloading numpy-1.9.0.zip (4.5 MB)\n",
            "\u001b[2K     \u001b[90m━━━━━━━━━━━━━━━━━━━━━━━━━━━━━━━━━━━━━━━━\u001b[0m \u001b[32m4.5/4.5 MB\u001b[0m \u001b[31m51.6 MB/s\u001b[0m eta \u001b[36m0:00:00\u001b[0m\n",
            "\u001b[?25h  Preparing metadata (setup.py) ... \u001b[?25l\u001b[?25hdone\n",
            "Requirement already satisfied: scipy in /usr/local/lib/python3.11/dist-packages (from paramz>=0.9.5) (1.15.3)\n",
            "Requirement already satisfied: six in /usr/local/lib/python3.11/dist-packages (from paramz>=0.9.5) (1.17.0)\n",
            "Requirement already satisfied: decorator>=4.0.10 in /usr/local/lib/python3.11/dist-packages (from paramz>=0.9.5) (4.4.2)\n",
            "INFO: pip is looking at multiple versions of scipy to determine which version is compatible with other requirements. This could take a while.\n",
            "Collecting scipy (from paramz>=0.9.5)\n",
            "  Downloading scipy-1.16.1-cp311-cp311-manylinux2014_x86_64.manylinux_2_17_x86_64.whl.metadata (61 kB)\n",
            "\u001b[2K     \u001b[90m━━━━━━━━━━━━━━━━━━━━━━━━━━━━━━━━━━━━━━━━\u001b[0m \u001b[32m62.0/62.0 kB\u001b[0m \u001b[31m3.1 MB/s\u001b[0m eta \u001b[36m0:00:00\u001b[0m\n",
            "\u001b[?25h  Using cached scipy-1.16.0-cp311-cp311-manylinux2014_x86_64.manylinux_2_17_x86_64.whl.metadata (61 kB)\n",
            "  Using cached scipy-1.15.2-cp311-cp311-manylinux_2_17_x86_64.manylinux2014_x86_64.whl.metadata (61 kB)\n",
            "  Using cached scipy-1.15.1-cp311-cp311-manylinux_2_17_x86_64.manylinux2014_x86_64.whl.metadata (61 kB)\n",
            "  Using cached scipy-1.15.0-cp311-cp311-manylinux_2_17_x86_64.manylinux2014_x86_64.whl.metadata (61 kB)\n",
            "  Using cached scipy-1.14.1-cp311-cp311-manylinux_2_17_x86_64.manylinux2014_x86_64.whl.metadata (60 kB)\n",
            "  Using cached scipy-1.14.0-cp311-cp311-manylinux_2_17_x86_64.manylinux2014_x86_64.whl.metadata (60 kB)\n",
            "INFO: pip is still looking at multiple versions of scipy to determine which version is compatible with other requirements. This could take a while.\n",
            "  Using cached scipy-1.13.1-cp311-cp311-manylinux_2_17_x86_64.manylinux2014_x86_64.whl.metadata (60 kB)\n",
            "  Using cached scipy-1.13.0-cp311-cp311-manylinux_2_17_x86_64.manylinux2014_x86_64.whl.metadata (60 kB)\n",
            "  Using cached scipy-1.12.0-cp311-cp311-manylinux_2_17_x86_64.manylinux2014_x86_64.whl.metadata (60 kB)\n",
            "  Using cached scipy-1.11.4-cp311-cp311-manylinux_2_17_x86_64.manylinux2014_x86_64.whl.metadata (60 kB)\n",
            "  Using cached scipy-1.11.3-cp311-cp311-manylinux_2_17_x86_64.manylinux2014_x86_64.whl.metadata (60 kB)\n",
            "INFO: This is taking longer than usual. You might need to provide the dependency resolver with stricter constraints to reduce runtime. See https://pip.pypa.io/warnings/backtracking for guidance. If you want to abort this run, press Ctrl + C.\n",
            "  Using cached scipy-1.11.2-cp311-cp311-manylinux_2_17_x86_64.manylinux2014_x86_64.whl.metadata (59 kB)\n",
            "  Using cached scipy-1.11.1-cp311-cp311-manylinux_2_17_x86_64.manylinux2014_x86_64.whl.metadata (59 kB)\n",
            "  Using cached scipy-1.10.1-cp311-cp311-manylinux_2_17_x86_64.manylinux2014_x86_64.whl.metadata (58 kB)\n",
            "  Downloading scipy-1.10.0-cp311-cp311-manylinux_2_17_x86_64.manylinux2014_x86_64.whl.metadata (58 kB)\n",
            "\u001b[2K     \u001b[90m━━━━━━━━━━━━━━━━━━━━━━━━━━━━━━━━━━━━━━━━\u001b[0m \u001b[32m58.9/58.9 kB\u001b[0m \u001b[31m1.3 MB/s\u001b[0m eta \u001b[36m0:00:00\u001b[0m\n",
            "\u001b[?25h  Downloading scipy-1.9.3-cp311-cp311-manylinux_2_17_x86_64.manylinux2014_x86_64.whl.metadata (58 kB)\n",
            "\u001b[2K     \u001b[90m━━━━━━━━━━━━━━━━━━━━━━━━━━━━━━━━━━━━━━━━\u001b[0m \u001b[32m58.4/58.4 kB\u001b[0m \u001b[31m4.9 MB/s\u001b[0m eta \u001b[36m0:00:00\u001b[0m\n",
            "\u001b[?25h  Downloading scipy-1.9.2-cp311-cp311-manylinux_2_17_x86_64.manylinux2014_x86_64.whl.metadata (58 kB)\n",
            "\u001b[2K     \u001b[90m━━━━━━━━━━━━━━━━━━━━━━━━━━━━━━━━━━━━━━━━\u001b[0m \u001b[32m58.4/58.4 kB\u001b[0m \u001b[31m4.6 MB/s\u001b[0m eta \u001b[36m0:00:00\u001b[0m\n",
            "\u001b[?25h  Downloading scipy-1.9.1.tar.gz (42.0 MB)\n",
            "\u001b[2K     \u001b[90m━━━━━━━━━━━━━━━━━━━━━━━━━━━━━━━━━━━━━━━━\u001b[0m \u001b[32m42.0/42.0 MB\u001b[0m \u001b[31m11.5 MB/s\u001b[0m eta \u001b[36m0:00:00\u001b[0m\n",
            "\u001b[?25h  Installing build dependencies ... \u001b[?25l\u001b[?25hdone\n",
            "  \u001b[1;31merror\u001b[0m: \u001b[1msubprocess-exited-with-error\u001b[0m\n",
            "  \n",
            "  \u001b[31m×\u001b[0m \u001b[32mGetting requirements to build wheel\u001b[0m did not run successfully.\n",
            "  \u001b[31m│\u001b[0m exit code: \u001b[1;36m1\u001b[0m\n",
            "  \u001b[31m╰─>\u001b[0m See above for output.\n",
            "  \n",
            "  \u001b[1;35mnote\u001b[0m: This error originates from a subprocess, and is likely not a problem with pip.\n",
            "  Getting requirements to build wheel ... \u001b[?25l\u001b[?25herror\n",
            "\u001b[1;31merror\u001b[0m: \u001b[1msubprocess-exited-with-error\u001b[0m\n",
            "\n",
            "\u001b[31m×\u001b[0m \u001b[32mGetting requirements to build wheel\u001b[0m did not run successfully.\n",
            "\u001b[31m│\u001b[0m exit code: \u001b[1;36m1\u001b[0m\n",
            "\u001b[31m╰─>\u001b[0m See above for output.\n",
            "\n",
            "\u001b[1;35mnote\u001b[0m: This error originates from a subprocess, and is likely not a problem with pip.\n"
          ]
        }
      ],
      "source": [
        "import os\n",
        "# The previous installation attempts resulted in a ModuleNotFoundError related to numpy.\n",
        "# This suggests a numpy version incompatibility with one of the required libraries (likely paramz).\n",
        "# We will install a specific version of numpy that is compatible with paramz.\n",
        "!pip install 'paramz>=0.9.5' 'autograd>=1.3' 'networkx>=2.4' 'numpy==1.9' # Install numpy version known to be compatible with paramz\n",
        "args = os.getenv(\"ARGS\", \"release real\").split(\" \")\n",
        "release = args[0]\n",
        "arch = args[1]"
      ]
    },
    {
      "cell_type": "code",
      "source": [],
      "metadata": {
        "id": "CG0r7g5Nw_f6"
      },
      "id": "CG0r7g5Nw_f6",
      "execution_count": 1,
      "outputs": []
    },
    {
      "cell_type": "code",
      "source": [
        "from google.colab import drive\n",
        "import sys\n",
        "drive.mount('/content/drive')\n",
        "sys.path.append('/content/drive/MyDrive/MAKING KERNEL PICTURES')"
      ],
      "metadata": {
        "colab": {
          "base_uri": "https://localhost:8080/"
        },
        "id": "u0rvNWHOiwYM",
        "outputId": "60beee90-dd48-467a-96cd-791336a3fd74"
      },
      "id": "u0rvNWHOiwYM",
      "execution_count": 2,
      "outputs": [
        {
          "output_type": "stream",
          "name": "stdout",
          "text": [
            "Drive already mounted at /content/drive; to attempt to forcibly remount, call drive.mount(\"/content/drive\", force_remount=True).\n"
          ]
        }
      ]
    },
    {
      "cell_type": "code",
      "execution_count": 3,
      "id": "mediterranean-century",
      "metadata": {
        "id": "mediterranean-century"
      },
      "outputs": [],
      "source": [
        "try:\n",
        "    import google.colab  # noqa: F401\n",
        "except ImportError:\n",
        "    import firedrake\n",
        "else:\n",
        "    try:\n",
        "        import firedrake\n",
        "    except ImportError:\n",
        "        if release != \"development\":\n",
        "            if arch != \"complex\":\n",
        "                !wget \"https://fem-on-colab.github.io/releases/firedrake-install-release-real.sh\" -O \"/tmp/firedrake-install.sh\" && bash \"/tmp/firedrake-install.sh\"\n",
        "            else:\n",
        "                !wget \"https://fem-on-colab.github.io/releases/firedrake-install-release-complex.sh\" -O \"/tmp/firedrake-install.sh\" && bash \"/tmp/firedrake-install.sh\"\n",
        "        else:\n",
        "            if arch != \"complex\":\n",
        "                !wget \"https://fem-on-colab.github.io/releases/firedrake-install-development-real.sh\" -O \"/tmp/firedrake-install.sh\" && bash \"/tmp/firedrake-install.sh\"\n",
        "            else:\n",
        "                !wget \"https://fem-on-colab.github.io/releases/firedrake-install-development-complex.sh\" -O \"/tmp/firedrake-install.sh\" && bash \"/tmp/firedrake-install.sh\"\n",
        "        import firedrake"
      ]
    },
    {
      "cell_type": "code",
      "source": [
        "from firedrake import Mesh, FunctionSpace\n",
        "import os\n",
        "import numpy as np\n",
        "import networkx as nx\n",
        "\n",
        "from manifold_matern.cli import argument_parser\n",
        "from manifold_matern.manifold_matern_gp import ManifoldMaternGP\n",
        "from manifold_matern.laplace_eigenvalues import get_eigenpairs\n",
        "\n",
        "from manifold_matern.utils import export_fun, construct_mesh_graph, \\\n",
        "    convert_to_firedrake_function\n",
        "\n",
        "\n",
        "\n",
        "\n",
        "def construct_ground_truth(mesh):\n",
        "    mesh_graph = construct_mesh_graph(mesh)\n",
        "\n",
        "    geodesics = nx.shortest_path_length(mesh_graph, source=0, weight='weight')\n",
        "\n",
        "    N = mesh.num_vertices()\n",
        "\n",
        "    ground_truth = np.zeros((N))\n",
        "    period = 2*np.pi / 0.3 * 2\n",
        "    for i in range(N):\n",
        "        distance = geodesics.get(i)\n",
        "        if distance is not None:\n",
        "            ground_truth[i] = 2 * np.sin(distance * period + 0.3)\n",
        "        else:\n",
        "            # Handle unreachable vertices, assigning 0.0 as a default value\n",
        "            ground_truth[i] = 0.0\n",
        "\n",
        "    return ground_truth\n",
        "\n",
        "\n",
        "# if __name__ == '__main__':\n",
        "#     parser = argument_parser()\n",
        "#     args, unknown_args = parser.parse_known_args() # Unpack the tuple\n",
        "\n",
        "#     mesh = Mesh('/content/drive/MyDrive/MAKING KERNEL PICTURES/Frog Buddha.msh', dim=3)\n",
        "#     num_eigenpairs = args.num_eigenpairs # Access num_eigenpairs from the Namespace object\n",
        "\n",
        "#     print('Constructing ground truth. It may take a while')\n",
        "#     ground_truth = construct_ground_truth(mesh)\n",
        "\n",
        "#     mayavi_installed = False\n",
        "#     if args.mayavi:\n",
        "#         try:\n",
        "#             import manifold_matern.plotting\n",
        "#             mayavi_installed = True\n",
        "#         except ImportError:\n",
        "#             import warnings\n",
        "#             warnings.warn('Mayavi does not seem to be installed.\\n'\n",
        "#                           'No mayavi-based plotting will occur.',\n",
        "#                           RuntimeWarning)\n",
        "\n",
        "#     V = FunctionSpace(mesh, \"Lagrange\", 1)\n",
        "\n",
        "#     if args.eigenpairs_file is None:\n",
        "#         print('Getting eigenpairs. It may take a while')\n",
        "#         eigenpairs = get_eigenpairs(mesh, V, num_eigvals=num_eigenpairs,\n",
        "#                                     eps_target=1e-10)\n",
        "#     else:\n",
        "#         print('Reading eigenpairs from a file')\n",
        "#         eigenpairs_ = np.load(args.eigenpairs_file)\n",
        "#         eigenpairs = (eigenpairs_[:, 0],\n",
        "#                       eigenpairs_[:, 1:])\n",
        "\n",
        "#     X = [455, 1455, 2455, 3455]\n",
        "#     Y = ground_truth[X]\n",
        "\n",
        "#     gp = ManifoldMaternGP(mesh, V, X, Y, eigenpairs)\n",
        "#     gp.kappa.constrain_bounded(0.01, 5.0)\n",
        "#     gp.sigma_n.fix(1e-15)\n",
        "#     gp.sigma_f.constrain_bounded(1., 100000.0)\n",
        "\n",
        "#     if args.seed is not None:\n",
        "#         print('Setting seed %d' % args.seed)\n",
        "#         np.random.seed(args.seed)\n",
        "\n",
        "#     print('Optimizing MLL. It may take a while')\n",
        "#     gp.optimize_restarts(num_restarts=5)\n",
        "\n",
        "#     print('Optimization finished. Proceeding to output')\n",
        "#     mean, variance = gp.predict()\n",
        "#     std = np.nan_to_num(np.sqrt(variance))\n",
        "#     samples = gp.posterior_samples(args.num_samples)\n",
        "\n",
        "#     output_dir = args.output_dir\n",
        "#     if not os.path.exists(output_dir):\n",
        "#         os.makedirs(output_dir)\n",
        "\n",
        "#     export_fun(os.path.join(output_dir, '0_groud_truth.pvd'),\n",
        "#                convert_to_firedrake_function(V, ground_truth))\n",
        "#     export_fun(os.path.join(output_dir, '0_mean.pvd'),\n",
        "#                convert_to_firedrake_function(V, mean))\n",
        "#     export_fun(os.path.join(output_dir, '0_std.pvd'),\n",
        "#                convert_to_firedrake_function(V, std))\n",
        "\n",
        "#     for s in range(len(samples)):\n",
        "#         export_fun(os.path.join(output_dir, '0_sample_%d.pvd' % s),\n",
        "#                    convert_to_firedrake_function(V, samples[s]))\n",
        "\n",
        "#     if args.mayavi and mayavi_installed:\n",
        "#         from manifold_matern.plotting import plot_example\n",
        "#         vmin, vmax = -4., 4.\n",
        "#         plot_example(os.path.join(output_dir, '1_ground_truth.png'),\n",
        "#                      mesh, V, ground_truth, X, vmin, vmax)\n",
        "#         plot_example(os.path.join(output_dir, '1_mean.png'),\n",
        "#                      mesh, V, mean, X, vmin, vmax)\n",
        "#         plot_example(os.path.join(output_dir, '1_std.png'),\n",
        "#                      mesh, V, std, X, std.min(), std.max(), colormap='viridis')\n",
        "#         for s in range(len(samples)):\n",
        "#             plot_example(os.path.join(output_dir, '1_sample_%d.png' % s),\n",
        "#                          mesh, V, samples[s], X, vmin, vmax)"
      ],
      "metadata": {
        "id": "R33IexNBfqRM",
        "colab": {
          "base_uri": "https://localhost:8080/",
          "height": 894
        },
        "outputId": "700465a0-6b79-4b87-8413-6a3c38810683"
      },
      "id": "R33IexNBfqRM",
      "execution_count": 11,
      "outputs": [
        {
          "output_type": "stream",
          "name": "stdout",
          "text": [
            "Constructing ground truth. It may take a while\n"
          ]
        },
        {
          "output_type": "error",
          "ename": "KeyboardInterrupt",
          "evalue": "",
          "traceback": [
            "\u001b[0;31m---------------------------------------------------------------------------\u001b[0m",
            "\u001b[0;31mKeyError\u001b[0m                                  Traceback (most recent call last)",
            "\u001b[0;32m/usr/local/lib/python3.11/dist-packages/firedrake/functionspacedata.py\u001b[0m in \u001b[0;36mcached\u001b[0;34m(f, mesh, key, *args, **kwargs)\u001b[0m\n\u001b[1;32m     62\u001b[0m     \u001b[0;32mtry\u001b[0m\u001b[0;34m:\u001b[0m\u001b[0;34m\u001b[0m\u001b[0;34m\u001b[0m\u001b[0m\n\u001b[0;32m---> 63\u001b[0;31m         \u001b[0;32mreturn\u001b[0m \u001b[0mcache\u001b[0m\u001b[0;34m[\u001b[0m\u001b[0mkey\u001b[0m\u001b[0;34m]\u001b[0m\u001b[0;34m\u001b[0m\u001b[0;34m\u001b[0m\u001b[0m\n\u001b[0m\u001b[1;32m     64\u001b[0m     \u001b[0;32mexcept\u001b[0m \u001b[0mKeyError\u001b[0m\u001b[0;34m:\u001b[0m\u001b[0;34m\u001b[0m\u001b[0;34m\u001b[0m\u001b[0m\n",
            "\u001b[0;31mKeyError\u001b[0m: (((0, (0,), (1,), (2,), (3,)), (1, (), (), (), (), (), ()), (2, (), (), (), ()), (3, ())), False, ((0, (0, (0, (0,))), (1, (0, (0,))), (2, (0, (0,))), (3, (0, (0,)))), (1, (0, (0, ()), (1, ())), (1, (0, ()), (1, ())), (2, (0, ()), (1, ())), (3, (0, ()), (1, ())), (4, (0, ()), (1, ())), (5, (0, ()), (1, ()))), (2, (0, (0, ()), (1, ()), (2, ()), (3, ()), (4, ()), (5, ())), (1, (0, ()), (1, ()), (2, ()), (3, ()), (4, ()), (5, ())), (2, (0, ()), (1, ()), (2, ()), (3, ()), (4, ()), (5, ())), (3, (0, ()), (1, ()), (2, ()), (3, ()), (4, ()), (5, ()))), (3, (0, (0, ()), (1, ()), (2, ()), (3, ()), (4, ()), (5, ()), (6, ()), (7, ()), (8, ()), (9, ()), (10, ()), (11, ()), (12, ()), (13, ()), (14, ()), (15, ()), (16, ()), (17, ()), (18, ()), (19, ()), (20, ()), (21, ()), (22, ()), (23, ())))), None)",
            "\nDuring handling of the above exception, another exception occurred:\n",
            "\u001b[0;31mKeyboardInterrupt\u001b[0m                         Traceback (most recent call last)",
            "\u001b[0;32m/tmp/ipython-input-16081340.py\u001b[0m in \u001b[0;36m<cell line: 0>\u001b[0;34m()\u001b[0m\n\u001b[1;32m     42\u001b[0m \u001b[0;34m\u001b[0m\u001b[0m\n\u001b[1;32m     43\u001b[0m     \u001b[0mprint\u001b[0m\u001b[0;34m(\u001b[0m\u001b[0;34m'Constructing ground truth. It may take a while'\u001b[0m\u001b[0;34m)\u001b[0m\u001b[0;34m\u001b[0m\u001b[0;34m\u001b[0m\u001b[0m\n\u001b[0;32m---> 44\u001b[0;31m     \u001b[0mground_truth\u001b[0m \u001b[0;34m=\u001b[0m \u001b[0mconstruct_ground_truth\u001b[0m\u001b[0;34m(\u001b[0m\u001b[0mmesh\u001b[0m\u001b[0;34m)\u001b[0m\u001b[0;34m\u001b[0m\u001b[0;34m\u001b[0m\u001b[0m\n\u001b[0m\u001b[1;32m     45\u001b[0m \u001b[0;34m\u001b[0m\u001b[0m\n\u001b[1;32m     46\u001b[0m     \u001b[0mmayavi_installed\u001b[0m \u001b[0;34m=\u001b[0m \u001b[0;32mFalse\u001b[0m\u001b[0;34m\u001b[0m\u001b[0;34m\u001b[0m\u001b[0m\n",
            "\u001b[0;32m/tmp/ipython-input-16081340.py\u001b[0m in \u001b[0;36mconstruct_ground_truth\u001b[0;34m(mesh)\u001b[0m\n\u001b[1;32m     15\u001b[0m \u001b[0;34m\u001b[0m\u001b[0m\n\u001b[1;32m     16\u001b[0m \u001b[0;32mdef\u001b[0m \u001b[0mconstruct_ground_truth\u001b[0m\u001b[0;34m(\u001b[0m\u001b[0mmesh\u001b[0m\u001b[0;34m)\u001b[0m\u001b[0;34m:\u001b[0m\u001b[0;34m\u001b[0m\u001b[0;34m\u001b[0m\u001b[0m\n\u001b[0;32m---> 17\u001b[0;31m     \u001b[0mmesh_graph\u001b[0m \u001b[0;34m=\u001b[0m \u001b[0mconstruct_mesh_graph\u001b[0m\u001b[0;34m(\u001b[0m\u001b[0mmesh\u001b[0m\u001b[0;34m)\u001b[0m\u001b[0;34m\u001b[0m\u001b[0;34m\u001b[0m\u001b[0m\n\u001b[0m\u001b[1;32m     18\u001b[0m \u001b[0;34m\u001b[0m\u001b[0m\n\u001b[1;32m     19\u001b[0m     \u001b[0mgeodesics\u001b[0m \u001b[0;34m=\u001b[0m \u001b[0mnx\u001b[0m\u001b[0;34m.\u001b[0m\u001b[0mshortest_path_length\u001b[0m\u001b[0;34m(\u001b[0m\u001b[0mmesh_graph\u001b[0m\u001b[0;34m,\u001b[0m \u001b[0msource\u001b[0m\u001b[0;34m=\u001b[0m\u001b[0;36m0\u001b[0m\u001b[0;34m,\u001b[0m \u001b[0mweight\u001b[0m\u001b[0;34m=\u001b[0m\u001b[0;34m'weight'\u001b[0m\u001b[0;34m)\u001b[0m\u001b[0;34m\u001b[0m\u001b[0;34m\u001b[0m\u001b[0m\n",
            "\u001b[0;32m/content/drive/MyDrive/MAKING KERNEL PICTURES/manifold_matern/utils.py\u001b[0m in \u001b[0;36mconstruct_mesh_graph\u001b[0;34m(mesh)\u001b[0m\n\u001b[1;32m    117\u001b[0m     \"\"\"\n\u001b[1;32m    118\u001b[0m     \u001b[0;32mimport\u001b[0m \u001b[0mnumpy\u001b[0m\u001b[0;34m\u001b[0m\u001b[0;34m\u001b[0m\u001b[0m\n\u001b[0;32m--> 119\u001b[0;31m     \u001b[0mcoordinates\u001b[0m \u001b[0;34m=\u001b[0m \u001b[0mmesh\u001b[0m\u001b[0;34m.\u001b[0m\u001b[0mcoordinates\u001b[0m\u001b[0;34m.\u001b[0m\u001b[0mdat\u001b[0m\u001b[0;34m.\u001b[0m\u001b[0mdata_ro\u001b[0m\u001b[0;34m\u001b[0m\u001b[0;34m\u001b[0m\u001b[0m\n\u001b[0m\u001b[1;32m    120\u001b[0m     \u001b[0mcell_node_map\u001b[0m \u001b[0;34m=\u001b[0m \u001b[0mmesh\u001b[0m\u001b[0;34m.\u001b[0m\u001b[0mcoordinates\u001b[0m\u001b[0;34m.\u001b[0m\u001b[0mcell_node_map\u001b[0m\u001b[0;34m(\u001b[0m\u001b[0;34m)\u001b[0m\u001b[0;34m.\u001b[0m\u001b[0mvalues\u001b[0m\u001b[0;34m\u001b[0m\u001b[0;34m\u001b[0m\u001b[0m\n\u001b[1;32m    121\u001b[0m \u001b[0;34m\u001b[0m\u001b[0m\n",
            "\u001b[0;32m/usr/local/lib/python3.11/dist-packages/firedrake/mesh.py\u001b[0m in \u001b[0;36mcoordinates\u001b[0;34m(self)\u001b[0m\n\u001b[1;32m   2382\u001b[0m     \u001b[0;32mdef\u001b[0m \u001b[0mcoordinates\u001b[0m\u001b[0;34m(\u001b[0m\u001b[0mself\u001b[0m\u001b[0;34m)\u001b[0m\u001b[0;34m:\u001b[0m\u001b[0;34m\u001b[0m\u001b[0;34m\u001b[0m\u001b[0m\n\u001b[1;32m   2383\u001b[0m         \u001b[0;34m\"\"\"The :class:`.Function` containing the coordinates of this mesh.\"\"\"\u001b[0m\u001b[0;34m\u001b[0m\u001b[0;34m\u001b[0m\u001b[0m\n\u001b[0;32m-> 2384\u001b[0;31m         \u001b[0;32mreturn\u001b[0m \u001b[0mself\u001b[0m\u001b[0;34m.\u001b[0m\u001b[0m_coordinates_function\u001b[0m\u001b[0;34m\u001b[0m\u001b[0;34m\u001b[0m\u001b[0m\n\u001b[0m\u001b[1;32m   2385\u001b[0m \u001b[0;34m\u001b[0m\u001b[0m\n\u001b[1;32m   2386\u001b[0m     \u001b[0;34m@\u001b[0m\u001b[0mcoordinates\u001b[0m\u001b[0;34m.\u001b[0m\u001b[0msetter\u001b[0m\u001b[0;34m\u001b[0m\u001b[0;34m\u001b[0m\u001b[0m\n",
            "\u001b[0;32m/usr/local/lib/python3.11/dist-packages/firedrake/adjoint_utils/mesh.py\u001b[0m in \u001b[0;36mwrapper\u001b[0;34m(self, *args, **kwargs)\u001b[0m\n\u001b[1;32m     28\u001b[0m         \u001b[0;32mdef\u001b[0m \u001b[0mwrapper\u001b[0m\u001b[0;34m(\u001b[0m\u001b[0mself\u001b[0m\u001b[0;34m,\u001b[0m \u001b[0;34m*\u001b[0m\u001b[0margs\u001b[0m\u001b[0;34m,\u001b[0m \u001b[0;34m**\u001b[0m\u001b[0mkwargs\u001b[0m\u001b[0;34m)\u001b[0m\u001b[0;34m:\u001b[0m\u001b[0;34m\u001b[0m\u001b[0;34m\u001b[0m\u001b[0m\n\u001b[1;32m     29\u001b[0m             \u001b[0;32mfrom\u001b[0m \u001b[0;34m.\u001b[0m\u001b[0mblocks\u001b[0m \u001b[0;32mimport\u001b[0m \u001b[0mMeshInputBlock\u001b[0m\u001b[0;34m,\u001b[0m \u001b[0mMeshOutputBlock\u001b[0m\u001b[0;34m\u001b[0m\u001b[0;34m\u001b[0m\u001b[0m\n\u001b[0;32m---> 30\u001b[0;31m             \u001b[0mf\u001b[0m \u001b[0;34m=\u001b[0m \u001b[0mcoordinates_function\u001b[0m\u001b[0;34m(\u001b[0m\u001b[0mself\u001b[0m\u001b[0;34m)\u001b[0m\u001b[0;34m\u001b[0m\u001b[0;34m\u001b[0m\u001b[0m\n\u001b[0m\u001b[1;32m     31\u001b[0m             \u001b[0mf\u001b[0m\u001b[0;34m.\u001b[0m\u001b[0mblock_class\u001b[0m \u001b[0;34m=\u001b[0m \u001b[0mMeshInputBlock\u001b[0m\u001b[0;34m\u001b[0m\u001b[0;34m\u001b[0m\u001b[0m\n\u001b[1;32m     32\u001b[0m             \u001b[0mf\u001b[0m\u001b[0;34m.\u001b[0m\u001b[0m_ad_floating_active\u001b[0m \u001b[0;34m=\u001b[0m \u001b[0;32mTrue\u001b[0m\u001b[0;34m\u001b[0m\u001b[0;34m\u001b[0m\u001b[0m\n",
            "\u001b[0;32m/usr/local/lib/python3.11/dist-packages/firedrake/mesh.py\u001b[0m in \u001b[0;36m_coordinates_function\u001b[0;34m(self)\u001b[0m\n\u001b[1;32m   2372\u001b[0m             \u001b[0;32mreturn\u001b[0m \u001b[0mself\u001b[0m\u001b[0;34m.\u001b[0m\u001b[0mufl_cargo\u001b[0m\u001b[0;34m(\u001b[0m\u001b[0;34m)\u001b[0m\u001b[0;34m.\u001b[0m\u001b[0m_coordinates_function\u001b[0m\u001b[0;34m\u001b[0m\u001b[0;34m\u001b[0m\u001b[0m\n\u001b[1;32m   2373\u001b[0m         \u001b[0;32melse\u001b[0m\u001b[0;34m:\u001b[0m\u001b[0;34m\u001b[0m\u001b[0;34m\u001b[0m\u001b[0m\n\u001b[0;32m-> 2374\u001b[0;31m             \u001b[0mself\u001b[0m\u001b[0;34m.\u001b[0m\u001b[0minit\u001b[0m\u001b[0;34m(\u001b[0m\u001b[0;34m)\u001b[0m\u001b[0;34m\u001b[0m\u001b[0;34m\u001b[0m\u001b[0m\n\u001b[0m\u001b[1;32m   2375\u001b[0m             \u001b[0mcoordinates_fs\u001b[0m \u001b[0;34m=\u001b[0m \u001b[0mself\u001b[0m\u001b[0;34m.\u001b[0m\u001b[0m_coordinates\u001b[0m\u001b[0;34m.\u001b[0m\u001b[0mfunction_space\u001b[0m\u001b[0;34m(\u001b[0m\u001b[0;34m)\u001b[0m\u001b[0;34m\u001b[0m\u001b[0;34m\u001b[0m\u001b[0m\n\u001b[1;32m   2376\u001b[0m             \u001b[0mV\u001b[0m \u001b[0;34m=\u001b[0m \u001b[0mfunctionspaceimpl\u001b[0m\u001b[0;34m.\u001b[0m\u001b[0mWithGeometry\u001b[0m\u001b[0;34m.\u001b[0m\u001b[0mcreate\u001b[0m\u001b[0;34m(\u001b[0m\u001b[0mcoordinates_fs\u001b[0m\u001b[0;34m,\u001b[0m \u001b[0mself\u001b[0m\u001b[0;34m)\u001b[0m\u001b[0;34m\u001b[0m\u001b[0;34m\u001b[0m\u001b[0m\n",
            "\u001b[0;32m/usr/local/lib/python3.11/dist-packages/firedrake/mesh.py\u001b[0m in \u001b[0;36minit\u001b[0;34m(self)\u001b[0m\n\u001b[1;32m   2284\u001b[0m         constructing it) you need to call this manually.\"\"\"\n\u001b[1;32m   2285\u001b[0m         \u001b[0;32mif\u001b[0m \u001b[0mhasattr\u001b[0m\u001b[0;34m(\u001b[0m\u001b[0mself\u001b[0m\u001b[0;34m,\u001b[0m \u001b[0;34m'_callback'\u001b[0m\u001b[0;34m)\u001b[0m\u001b[0;34m:\u001b[0m\u001b[0;34m\u001b[0m\u001b[0;34m\u001b[0m\u001b[0m\n\u001b[0;32m-> 2286\u001b[0;31m             \u001b[0mself\u001b[0m\u001b[0;34m.\u001b[0m\u001b[0m_callback\u001b[0m\u001b[0;34m(\u001b[0m\u001b[0mself\u001b[0m\u001b[0;34m)\u001b[0m\u001b[0;34m\u001b[0m\u001b[0;34m\u001b[0m\u001b[0m\n\u001b[0m\u001b[1;32m   2287\u001b[0m \u001b[0;34m\u001b[0m\u001b[0m\n\u001b[1;32m   2288\u001b[0m     \u001b[0;32mdef\u001b[0m \u001b[0m_init_topology\u001b[0m\u001b[0;34m(\u001b[0m\u001b[0mself\u001b[0m\u001b[0;34m,\u001b[0m \u001b[0mtopology\u001b[0m\u001b[0;34m)\u001b[0m\u001b[0;34m:\u001b[0m\u001b[0;34m\u001b[0m\u001b[0;34m\u001b[0m\u001b[0m\n",
            "\u001b[0;32m/usr/local/lib/python3.11/dist-packages/firedrake/mesh.py\u001b[0m in \u001b[0;36mcallback\u001b[0;34m(self)\u001b[0m\n\u001b[1;32m   2306\u001b[0m             \u001b[0;31m# Finish the initialisation of mesh topology\u001b[0m\u001b[0;34m\u001b[0m\u001b[0;34m\u001b[0m\u001b[0m\n\u001b[1;32m   2307\u001b[0m             \u001b[0mself\u001b[0m\u001b[0;34m.\u001b[0m\u001b[0mtopology\u001b[0m\u001b[0;34m.\u001b[0m\u001b[0minit\u001b[0m\u001b[0;34m(\u001b[0m\u001b[0;34m)\u001b[0m\u001b[0;34m\u001b[0m\u001b[0;34m\u001b[0m\u001b[0m\n\u001b[0;32m-> 2308\u001b[0;31m             \u001b[0mcoordinates_fs\u001b[0m \u001b[0;34m=\u001b[0m \u001b[0mfunctionspace\u001b[0m\u001b[0;34m.\u001b[0m\u001b[0mFunctionSpace\u001b[0m\u001b[0;34m(\u001b[0m\u001b[0mself\u001b[0m\u001b[0;34m.\u001b[0m\u001b[0mtopology\u001b[0m\u001b[0;34m,\u001b[0m \u001b[0mself\u001b[0m\u001b[0;34m.\u001b[0m\u001b[0mufl_coordinate_element\u001b[0m\u001b[0;34m(\u001b[0m\u001b[0;34m)\u001b[0m\u001b[0;34m)\u001b[0m\u001b[0;34m\u001b[0m\u001b[0;34m\u001b[0m\u001b[0m\n\u001b[0m\u001b[1;32m   2309\u001b[0m             coordinates_data = dmcommon.reordered_coords(topology.topology_dm, coordinates_fs.dm.getDefaultSection(),\n\u001b[1;32m   2310\u001b[0m                                                          (self.num_vertices(), self.geometric_dimension()))\n",
            "\u001b[0;32mpetsc4py/PETSc/Log.pyx\u001b[0m in \u001b[0;36mpetsc4py.PETSc.Log.EventDecorator.decorator.wrapped_func\u001b[0;34m()\u001b[0m\n",
            "\u001b[0;32mpetsc4py/PETSc/Log.pyx\u001b[0m in \u001b[0;36mpetsc4py.PETSc.Log.EventDecorator.decorator.wrapped_func\u001b[0;34m()\u001b[0m\n",
            "\u001b[0;32m/usr/local/lib/python3.11/dist-packages/firedrake/functionspace.py\u001b[0m in \u001b[0;36mFunctionSpace\u001b[0;34m(mesh, family, degree, name, vfamily, vdegree, variant)\u001b[0m\n\u001b[1;32m    103\u001b[0m     \"\"\"\n\u001b[1;32m    104\u001b[0m     \u001b[0melement\u001b[0m \u001b[0;34m=\u001b[0m \u001b[0mmake_scalar_element\u001b[0m\u001b[0;34m(\u001b[0m\u001b[0mmesh\u001b[0m\u001b[0;34m,\u001b[0m \u001b[0mfamily\u001b[0m\u001b[0;34m,\u001b[0m \u001b[0mdegree\u001b[0m\u001b[0;34m,\u001b[0m \u001b[0mvfamily\u001b[0m\u001b[0;34m,\u001b[0m \u001b[0mvdegree\u001b[0m\u001b[0;34m,\u001b[0m \u001b[0mvariant\u001b[0m\u001b[0;34m)\u001b[0m\u001b[0;34m\u001b[0m\u001b[0;34m\u001b[0m\u001b[0m\n\u001b[0;32m--> 105\u001b[0;31m     \u001b[0;32mreturn\u001b[0m \u001b[0mimpl\u001b[0m\u001b[0;34m.\u001b[0m\u001b[0mWithGeometry\u001b[0m\u001b[0;34m.\u001b[0m\u001b[0mmake_function_space\u001b[0m\u001b[0;34m(\u001b[0m\u001b[0mmesh\u001b[0m\u001b[0;34m,\u001b[0m \u001b[0melement\u001b[0m\u001b[0;34m,\u001b[0m \u001b[0mname\u001b[0m\u001b[0;34m=\u001b[0m\u001b[0mname\u001b[0m\u001b[0;34m)\u001b[0m\u001b[0;34m\u001b[0m\u001b[0;34m\u001b[0m\u001b[0m\n\u001b[0m\u001b[1;32m    106\u001b[0m \u001b[0;34m\u001b[0m\u001b[0m\n\u001b[1;32m    107\u001b[0m \u001b[0;34m\u001b[0m\u001b[0m\n",
            "\u001b[0;32m/usr/local/lib/python3.11/dist-packages/firedrake/functionspaceimpl.py\u001b[0m in \u001b[0;36mmake_function_space\u001b[0;34m(cls, mesh, element, name)\u001b[0m\n\u001b[1;32m    372\u001b[0m                 \u001b[0mnew\u001b[0m \u001b[0;34m=\u001b[0m \u001b[0mRealFunctionSpace\u001b[0m\u001b[0;34m(\u001b[0m\u001b[0mtopology\u001b[0m\u001b[0;34m,\u001b[0m \u001b[0melement\u001b[0m\u001b[0;34m,\u001b[0m \u001b[0mname\u001b[0m\u001b[0;34m=\u001b[0m\u001b[0mname\u001b[0m\u001b[0;34m)\u001b[0m\u001b[0;34m\u001b[0m\u001b[0;34m\u001b[0m\u001b[0m\n\u001b[1;32m    373\u001b[0m             \u001b[0;32melse\u001b[0m\u001b[0;34m:\u001b[0m\u001b[0;34m\u001b[0m\u001b[0;34m\u001b[0m\u001b[0m\n\u001b[0;32m--> 374\u001b[0;31m                 \u001b[0mnew\u001b[0m \u001b[0;34m=\u001b[0m \u001b[0mFunctionSpace\u001b[0m\u001b[0;34m(\u001b[0m\u001b[0mtopology\u001b[0m\u001b[0;34m,\u001b[0m \u001b[0melement\u001b[0m\u001b[0;34m,\u001b[0m \u001b[0mname\u001b[0m\u001b[0;34m=\u001b[0m\u001b[0mname\u001b[0m\u001b[0;34m)\u001b[0m\u001b[0;34m\u001b[0m\u001b[0;34m\u001b[0m\u001b[0m\n\u001b[0m\u001b[1;32m    375\u001b[0m         \u001b[0;31m# Skip this if we are just building subspaces of an abstract MixedFunctionSpace\u001b[0m\u001b[0;34m\u001b[0m\u001b[0;34m\u001b[0m\u001b[0m\n\u001b[1;32m    376\u001b[0m         \u001b[0;32mif\u001b[0m \u001b[0mmesh\u001b[0m \u001b[0;32mis\u001b[0m \u001b[0;32mnot\u001b[0m \u001b[0mtopology\u001b[0m\u001b[0;34m:\u001b[0m\u001b[0;34m\u001b[0m\u001b[0;34m\u001b[0m\u001b[0m\n",
            "\u001b[0;32mpetsc4py/PETSc/Log.pyx\u001b[0m in \u001b[0;36mpetsc4py.PETSc.Log.EventDecorator.decorator.wrapped_func\u001b[0;34m()\u001b[0m\n",
            "\u001b[0;32mpetsc4py/PETSc/Log.pyx\u001b[0m in \u001b[0;36mpetsc4py.PETSc.Log.EventDecorator.decorator.wrapped_func\u001b[0;34m()\u001b[0m\n",
            "\u001b[0;32m/usr/local/lib/python3.11/dist-packages/firedrake/functionspaceimpl.py\u001b[0m in \u001b[0;36m__init__\u001b[0;34m(self, mesh, element, name)\u001b[0m\n\u001b[1;32m    520\u001b[0m         \u001b[0mself\u001b[0m\u001b[0;34m.\u001b[0m\u001b[0m_comm\u001b[0m \u001b[0;34m=\u001b[0m \u001b[0mmpi\u001b[0m\u001b[0;34m.\u001b[0m\u001b[0minternal_comm\u001b[0m\u001b[0;34m(\u001b[0m\u001b[0mself\u001b[0m\u001b[0;34m.\u001b[0m\u001b[0mcomm\u001b[0m\u001b[0;34m,\u001b[0m \u001b[0mself\u001b[0m\u001b[0;34m)\u001b[0m\u001b[0;34m\u001b[0m\u001b[0;34m\u001b[0m\u001b[0m\n\u001b[1;32m    521\u001b[0m \u001b[0;34m\u001b[0m\u001b[0m\n\u001b[0;32m--> 522\u001b[0;31m         \u001b[0mself\u001b[0m\u001b[0;34m.\u001b[0m\u001b[0mset_shared_data\u001b[0m\u001b[0;34m(\u001b[0m\u001b[0;34m)\u001b[0m\u001b[0;34m\u001b[0m\u001b[0;34m\u001b[0m\u001b[0m\n\u001b[0m\u001b[1;32m    523\u001b[0m         \u001b[0mself\u001b[0m\u001b[0;34m.\u001b[0m\u001b[0mdof_dset\u001b[0m \u001b[0;34m=\u001b[0m \u001b[0mself\u001b[0m\u001b[0;34m.\u001b[0m\u001b[0mmake_dof_dset\u001b[0m\u001b[0;34m(\u001b[0m\u001b[0;34m)\u001b[0m\u001b[0;34m\u001b[0m\u001b[0;34m\u001b[0m\u001b[0m\n\u001b[1;32m    524\u001b[0m         r\"\"\"A :class:`pyop2.types.dataset.DataSet` representing the function space\n",
            "\u001b[0;32m/usr/local/lib/python3.11/dist-packages/firedrake/functionspaceimpl.py\u001b[0m in \u001b[0;36mset_shared_data\u001b[0;34m(self)\u001b[0m\n\u001b[1;32m    529\u001b[0m     \u001b[0;32mdef\u001b[0m \u001b[0mset_shared_data\u001b[0m\u001b[0;34m(\u001b[0m\u001b[0mself\u001b[0m\u001b[0;34m)\u001b[0m\u001b[0;34m:\u001b[0m\u001b[0;34m\u001b[0m\u001b[0;34m\u001b[0m\u001b[0m\n\u001b[1;32m    530\u001b[0m         \u001b[0melement\u001b[0m \u001b[0;34m=\u001b[0m \u001b[0mself\u001b[0m\u001b[0;34m.\u001b[0m\u001b[0mufl_element\u001b[0m\u001b[0;34m(\u001b[0m\u001b[0;34m)\u001b[0m\u001b[0;34m\u001b[0m\u001b[0;34m\u001b[0m\u001b[0m\n\u001b[0;32m--> 531\u001b[0;31m         \u001b[0msdata\u001b[0m \u001b[0;34m=\u001b[0m \u001b[0mget_shared_data\u001b[0m\u001b[0;34m(\u001b[0m\u001b[0mself\u001b[0m\u001b[0;34m.\u001b[0m\u001b[0m_mesh\u001b[0m\u001b[0;34m,\u001b[0m \u001b[0melement\u001b[0m\u001b[0;34m)\u001b[0m\u001b[0;34m\u001b[0m\u001b[0;34m\u001b[0m\u001b[0m\n\u001b[0m\u001b[1;32m    532\u001b[0m         \u001b[0;31m# Need to create finat element again as sdata does not\u001b[0m\u001b[0;34m\u001b[0m\u001b[0;34m\u001b[0m\u001b[0m\n\u001b[1;32m    533\u001b[0m         \u001b[0;31m# want to carry finat_element.\u001b[0m\u001b[0;34m\u001b[0m\u001b[0;34m\u001b[0m\u001b[0m\n",
            "\u001b[0;32mpetsc4py/PETSc/Log.pyx\u001b[0m in \u001b[0;36mpetsc4py.PETSc.Log.EventDecorator.decorator.wrapped_func\u001b[0;34m()\u001b[0m\n",
            "\u001b[0;32mpetsc4py/PETSc/Log.pyx\u001b[0m in \u001b[0;36mpetsc4py.PETSc.Log.EventDecorator.decorator.wrapped_func\u001b[0;34m()\u001b[0m\n",
            "\u001b[0;32m/usr/local/lib/python3.11/dist-packages/firedrake/functionspacedata.py\u001b[0m in \u001b[0;36mget_shared_data\u001b[0;34m(mesh, ufl_element, boundary_set)\u001b[0m\n\u001b[1;32m    539\u001b[0m         raise ValueError(\"Can't create function space data from a %s\" %\n\u001b[1;32m    540\u001b[0m                          type(ufl_element))\n\u001b[0;32m--> 541\u001b[0;31m     \u001b[0;32mreturn\u001b[0m \u001b[0mFunctionSpaceData\u001b[0m\u001b[0;34m(\u001b[0m\u001b[0mmesh\u001b[0m\u001b[0;34m,\u001b[0m \u001b[0mufl_element\u001b[0m\u001b[0;34m,\u001b[0m \u001b[0mboundary_set\u001b[0m\u001b[0;34m)\u001b[0m\u001b[0;34m\u001b[0m\u001b[0;34m\u001b[0m\u001b[0m\n\u001b[0m",
            "\u001b[0;32mpetsc4py/PETSc/Log.pyx\u001b[0m in \u001b[0;36mpetsc4py.PETSc.Log.EventDecorator.decorator.wrapped_func\u001b[0;34m()\u001b[0m\n",
            "\u001b[0;32mpetsc4py/PETSc/Log.pyx\u001b[0m in \u001b[0;36mpetsc4py.PETSc.Log.EventDecorator.decorator.wrapped_func\u001b[0;34m()\u001b[0m\n",
            "\u001b[0;32m/usr/local/lib/python3.11/dist-packages/firedrake/functionspacedata.py\u001b[0m in \u001b[0;36m__init__\u001b[0;34m(self, mesh, ufl_element, boundary_set)\u001b[0m\n\u001b[1;32m    443\u001b[0m         \u001b[0;31m# conditions.\u001b[0m\u001b[0;34m\u001b[0m\u001b[0;34m\u001b[0m\u001b[0m\n\u001b[1;32m    444\u001b[0m         \u001b[0;31m# Map caches are specific to a cell_node_list, which is keyed by entity_dof\u001b[0m\u001b[0;34m\u001b[0m\u001b[0;34m\u001b[0m\u001b[0m\n\u001b[0;32m--> 445\u001b[0;31m         \u001b[0mself\u001b[0m\u001b[0;34m.\u001b[0m\u001b[0mmap_cache\u001b[0m \u001b[0;34m=\u001b[0m \u001b[0mget_map_cache\u001b[0m\u001b[0;34m(\u001b[0m\u001b[0mmesh\u001b[0m\u001b[0;34m,\u001b[0m \u001b[0;34m(\u001b[0m\u001b[0medofs_key\u001b[0m\u001b[0;34m,\u001b[0m \u001b[0mreal_tensorproduct\u001b[0m\u001b[0;34m,\u001b[0m \u001b[0meperm_key\u001b[0m\u001b[0;34m,\u001b[0m \u001b[0mboundary_set\u001b[0m\u001b[0;34m)\u001b[0m\u001b[0;34m)\u001b[0m\u001b[0;34m\u001b[0m\u001b[0;34m\u001b[0m\u001b[0m\n\u001b[0m\u001b[1;32m    446\u001b[0m \u001b[0;34m\u001b[0m\u001b[0m\n\u001b[1;32m    447\u001b[0m         \u001b[0;32mif\u001b[0m \u001b[0misinstance\u001b[0m\u001b[0;34m(\u001b[0m\u001b[0mmesh\u001b[0m\u001b[0;34m,\u001b[0m \u001b[0mmesh_mod\u001b[0m\u001b[0;34m.\u001b[0m\u001b[0mExtrudedMeshTopology\u001b[0m\u001b[0;34m)\u001b[0m\u001b[0;34m:\u001b[0m\u001b[0;34m\u001b[0m\u001b[0;34m\u001b[0m\u001b[0m\n",
            "\u001b[0;32m<decorator-gen-144>\u001b[0m in \u001b[0;36mget_map_cache\u001b[0;34m(mesh, key)\u001b[0m\n",
            "\u001b[0;32m/usr/local/lib/python3.11/dist-packages/firedrake/functionspacedata.py\u001b[0m in \u001b[0;36mcached\u001b[0;34m(f, mesh, key, *args, **kwargs)\u001b[0m\n\u001b[1;32m     63\u001b[0m         \u001b[0;32mreturn\u001b[0m \u001b[0mcache\u001b[0m\u001b[0;34m[\u001b[0m\u001b[0mkey\u001b[0m\u001b[0;34m]\u001b[0m\u001b[0;34m\u001b[0m\u001b[0;34m\u001b[0m\u001b[0m\n\u001b[1;32m     64\u001b[0m     \u001b[0;32mexcept\u001b[0m \u001b[0mKeyError\u001b[0m\u001b[0;34m:\u001b[0m\u001b[0;34m\u001b[0m\u001b[0;34m\u001b[0m\u001b[0m\n\u001b[0;32m---> 65\u001b[0;31m         \u001b[0mresult\u001b[0m \u001b[0;34m=\u001b[0m \u001b[0mf\u001b[0m\u001b[0;34m(\u001b[0m\u001b[0mmesh\u001b[0m\u001b[0;34m,\u001b[0m \u001b[0mkey\u001b[0m\u001b[0;34m,\u001b[0m \u001b[0;34m*\u001b[0m\u001b[0margs\u001b[0m\u001b[0;34m,\u001b[0m \u001b[0;34m**\u001b[0m\u001b[0mkwargs\u001b[0m\u001b[0;34m)\u001b[0m\u001b[0;34m\u001b[0m\u001b[0;34m\u001b[0m\u001b[0m\n\u001b[0m\u001b[1;32m     66\u001b[0m         \u001b[0mcache\u001b[0m\u001b[0;34m[\u001b[0m\u001b[0mkey\u001b[0m\u001b[0;34m]\u001b[0m \u001b[0;34m=\u001b[0m \u001b[0mresult\u001b[0m\u001b[0;34m\u001b[0m\u001b[0;34m\u001b[0m\u001b[0m\n\u001b[1;32m     67\u001b[0m         \u001b[0;32mreturn\u001b[0m \u001b[0mresult\u001b[0m\u001b[0;34m\u001b[0m\u001b[0;34m\u001b[0m\u001b[0m\n",
            "\u001b[0;32m/usr/local/lib/python3.11/dist-packages/firedrake/functionspacedata.py\u001b[0m in \u001b[0;36mget_map_cache\u001b[0;34m(mesh, key)\u001b[0m\n\u001b[1;32m    199\u001b[0m         return {mesh.cell_set: None,\n\u001b[1;32m    200\u001b[0m                 \u001b[0mmesh\u001b[0m\u001b[0;34m.\u001b[0m\u001b[0minterior_facets\u001b[0m\u001b[0;34m.\u001b[0m\u001b[0mset\u001b[0m\u001b[0;34m:\u001b[0m \u001b[0;32mNone\u001b[0m\u001b[0;34m,\u001b[0m\u001b[0;34m\u001b[0m\u001b[0;34m\u001b[0m\u001b[0m\n\u001b[0;32m--> 201\u001b[0;31m                 \u001b[0mmesh\u001b[0m\u001b[0;34m.\u001b[0m\u001b[0mexterior_facets\u001b[0m\u001b[0;34m.\u001b[0m\u001b[0mset\u001b[0m\u001b[0;34m:\u001b[0m \u001b[0;32mNone\u001b[0m\u001b[0;34m,\u001b[0m\u001b[0;34m\u001b[0m\u001b[0;34m\u001b[0m\u001b[0m\n\u001b[0m\u001b[1;32m    202\u001b[0m                 \"boundary_node\": None}\n\u001b[1;32m    203\u001b[0m \u001b[0;34m\u001b[0m\u001b[0m\n",
            "\u001b[0;32m/usr/lib/python3.11/functools.py\u001b[0m in \u001b[0;36m__get__\u001b[0;34m(self, instance, owner)\u001b[0m\n\u001b[1;32m    999\u001b[0m                 \u001b[0mval\u001b[0m \u001b[0;34m=\u001b[0m \u001b[0mcache\u001b[0m\u001b[0;34m.\u001b[0m\u001b[0mget\u001b[0m\u001b[0;34m(\u001b[0m\u001b[0mself\u001b[0m\u001b[0;34m.\u001b[0m\u001b[0mattrname\u001b[0m\u001b[0;34m,\u001b[0m \u001b[0m_NOT_FOUND\u001b[0m\u001b[0;34m)\u001b[0m\u001b[0;34m\u001b[0m\u001b[0;34m\u001b[0m\u001b[0m\n\u001b[1;32m   1000\u001b[0m                 \u001b[0;32mif\u001b[0m \u001b[0mval\u001b[0m \u001b[0;32mis\u001b[0m \u001b[0m_NOT_FOUND\u001b[0m\u001b[0;34m:\u001b[0m\u001b[0;34m\u001b[0m\u001b[0;34m\u001b[0m\u001b[0m\n\u001b[0;32m-> 1001\u001b[0;31m                     \u001b[0mval\u001b[0m \u001b[0;34m=\u001b[0m \u001b[0mself\u001b[0m\u001b[0;34m.\u001b[0m\u001b[0mfunc\u001b[0m\u001b[0;34m(\u001b[0m\u001b[0minstance\u001b[0m\u001b[0;34m)\u001b[0m\u001b[0;34m\u001b[0m\u001b[0;34m\u001b[0m\u001b[0m\n\u001b[0m\u001b[1;32m   1002\u001b[0m                     \u001b[0;32mtry\u001b[0m\u001b[0;34m:\u001b[0m\u001b[0;34m\u001b[0m\u001b[0;34m\u001b[0m\u001b[0m\n\u001b[1;32m   1003\u001b[0m                         \u001b[0mcache\u001b[0m\u001b[0;34m[\u001b[0m\u001b[0mself\u001b[0m\u001b[0;34m.\u001b[0m\u001b[0mattrname\u001b[0m\u001b[0;34m]\u001b[0m \u001b[0;34m=\u001b[0m \u001b[0mval\u001b[0m\u001b[0;34m\u001b[0m\u001b[0;34m\u001b[0m\u001b[0m\n",
            "\u001b[0;32m/usr/local/lib/python3.11/dist-packages/firedrake/mesh.py\u001b[0m in \u001b[0;36mexterior_facets\u001b[0;34m(self)\u001b[0m\n\u001b[1;32m   1349\u001b[0m     \u001b[0;34m@\u001b[0m\u001b[0mutils\u001b[0m\u001b[0;34m.\u001b[0m\u001b[0mcached_property\u001b[0m\u001b[0;34m\u001b[0m\u001b[0;34m\u001b[0m\u001b[0m\n\u001b[1;32m   1350\u001b[0m     \u001b[0;32mdef\u001b[0m \u001b[0mexterior_facets\u001b[0m\u001b[0;34m(\u001b[0m\u001b[0mself\u001b[0m\u001b[0;34m)\u001b[0m\u001b[0;34m:\u001b[0m\u001b[0;34m\u001b[0m\u001b[0;34m\u001b[0m\u001b[0m\n\u001b[0;32m-> 1351\u001b[0;31m         \u001b[0;32mreturn\u001b[0m \u001b[0mself\u001b[0m\u001b[0;34m.\u001b[0m\u001b[0m_facets\u001b[0m\u001b[0;34m(\u001b[0m\u001b[0;34m\"exterior\"\u001b[0m\u001b[0;34m)\u001b[0m\u001b[0;34m\u001b[0m\u001b[0;34m\u001b[0m\u001b[0m\n\u001b[0m\u001b[1;32m   1352\u001b[0m \u001b[0;34m\u001b[0m\u001b[0m\n\u001b[1;32m   1353\u001b[0m     \u001b[0;34m@\u001b[0m\u001b[0mutils\u001b[0m\u001b[0;34m.\u001b[0m\u001b[0mcached_property\u001b[0m\u001b[0;34m\u001b[0m\u001b[0;34m\u001b[0m\u001b[0m\n",
            "\u001b[0;32mpetsc4py/PETSc/Log.pyx\u001b[0m in \u001b[0;36mpetsc4py.PETSc.Log.EventDecorator.decorator.wrapped_func\u001b[0;34m()\u001b[0m\n",
            "\u001b[0;32mpetsc4py/PETSc/Log.pyx\u001b[0m in \u001b[0;36mpetsc4py.PETSc.Log.EventDecorator.decorator.wrapped_func\u001b[0;34m()\u001b[0m\n",
            "\u001b[0;32m/usr/local/lib/python3.11/dist-packages/firedrake/mesh.py\u001b[0m in \u001b[0;36m_facets\u001b[0;34m(self, kind)\u001b[0m\n\u001b[1;32m   1335\u001b[0m \u001b[0;34m\u001b[0m\u001b[0m\n\u001b[1;32m   1336\u001b[0m         \u001b[0mlocal_facet_number\u001b[0m\u001b[0;34m,\u001b[0m \u001b[0mfacet_cell\u001b[0m \u001b[0;34m=\u001b[0m\u001b[0;31m \u001b[0m\u001b[0;31m\\\u001b[0m\u001b[0;34m\u001b[0m\u001b[0;34m\u001b[0m\u001b[0m\n\u001b[0;32m-> 1337\u001b[0;31m             dmcommon.facet_numbering(dm, kind, facets,\n\u001b[0m\u001b[1;32m   1338\u001b[0m                                      \u001b[0mself\u001b[0m\u001b[0;34m.\u001b[0m\u001b[0m_cell_numbering\u001b[0m\u001b[0;34m,\u001b[0m\u001b[0;34m\u001b[0m\u001b[0;34m\u001b[0m\u001b[0m\n\u001b[1;32m   1339\u001b[0m                                      self.cell_closure)\n",
            "\u001b[0;31mKeyboardInterrupt\u001b[0m: "
          ]
        }
      ]
    },
    {
      "cell_type": "code",
      "source": [
        "if __name__ == '__main__':\n",
        "    parser = argument_parser()\n",
        "    args, unknown_args = parser.parse_known_args() # Unpack the tuple\n",
        "\n",
        "    mesh = Mesh('/content/drive/MyDrive/MAKING KERNEL PICTURES/Frog Buddha.msh', dim=3)\n",
        "    num_eigenpairs = args.num_eigenpairs # Access num_eigenpairs from the Namespace object\n",
        "\n",
        "    print('Constructing ground truth. It may take a while')\n",
        "    ground_truth = construct_ground_truth(mesh)\n",
        "\n",
        "    mayavi_installed = False\n",
        "    if args.mayavi:\n",
        "        try:\n",
        "            import manifold_matern.plotting\n",
        "            mayavi_installed = True\n",
        "        except ImportError:\n",
        "            import warnings\n",
        "            warnings.warn('Mayavi does not seem to be installed.\\n'\n",
        "                          'No mayavi-based plotting will occur.',\n",
        "                          RuntimeWarning)\n",
        "\n",
        "    V = FunctionSpace(mesh, \"Lagrange\", 1)\n",
        "\n",
        "    if args.eigenpairs_file is None:\n",
        "        print('Getting eigenpairs. It may take a while')\n",
        "        eigenpairs = get_eigenpairs(mesh, V, num_eigvals=num_eigenpairs,\n",
        "                                    eps_target=1e-10)\n",
        "    else:\n",
        "        print('Reading eigenpairs from a file')\n",
        "        eigenpairs_ = np.load(args.eigenpairs_file)\n",
        "        eigenpairs = (eigenpairs_[:, 0],\n",
        "                      eigenpairs_[:, 1:])\n",
        "\n",
        "    X = [455, 1455, 2455, 3455]\n",
        "    Y = ground_truth[X]\n",
        "\n",
        "    gp = ManifoldMaternGP(mesh, V, X, Y, eigenpairs)\n",
        "    gp.kappa.constrain_bounded(0.01, 5.0)\n",
        "    gp.sigma_n.fix(1e-15)\n",
        "    gp.sigma_f.constrain_bounded(1., 100000.0)\n",
        "\n",
        "    if args.seed is not None:\n",
        "        print('Setting seed %d' % args.seed)\n",
        "        np.random.seed(args.seed)\n",
        "\n",
        "    print('Optimizing MLL. It may take a while')\n",
        "    gp.optimize_restarts(num_restarts=5)\n",
        "\n",
        "    print('Optimization finished. Proceeding to output')\n",
        "    mean, variance = gp.predict()\n",
        "    std = np.nan_to_num(np.sqrt(variance))\n",
        "    samples = gp.posterior_samples(args.num_samples)\n",
        "\n",
        "    output_dir = args.output_dir\n",
        "    if not os.path.exists(output_dir):\n",
        "        os.makedirs(output_dir)\n",
        "\n",
        "    export_fun(os.path.join(output_dir, '0_groud_truth.pvd'),\n",
        "               convert_to_firedrake_function(V, ground_truth))\n",
        "    export_fun(os.path.join(output_dir, '0_mean.pvd'),\n",
        "               convert_to_firedrake_function(V, mean))\n",
        "    export_fun(os.path.join(output_dir, '0_std.pvd'),\n",
        "               convert_to_firedrake_function(V, std))\n",
        "\n",
        "    for s in range(len(samples)):\n",
        "        export_fun(os.path.join(output_dir, '0_sample_%d.pvd' % s),\n",
        "                   convert_to_firedrake_function(V, samples[s]))\n",
        "\n",
        "    if args.mayavi and mayavi_installed:\n",
        "        from manifold_matern.plotting import plot_example\n",
        "        vmin, vmax = -4., 4.\n",
        "        plot_example(os.path.join(output_dir, '1_ground_truth.png'),\n",
        "                     mesh, V, ground_truth, X, vmin, vmax)\n",
        "        plot_example(os.path.join(output_dir, '1_mean.png'),\n",
        "                     mesh, V, mean, X, vmin, vmax)\n",
        "        plot_example(os.path.join(output_dir, '1_std.png'),\n",
        "                     mesh, V, std, X, std.min(), std.max(), colormap='viridis')\n",
        "        for s in range(len(samples)):\n",
        "            plot_example(os.path.join(output_dir, '1_sample_%d.png' % s),\n",
        "                         mesh, V, samples[s], X, vmin, vmax)"
      ],
      "metadata": {
        "id": "_nz9f6dO2dTi",
        "outputId": "616b03a4-390e-402d-9d36-4e2896277b13",
        "colab": {
          "base_uri": "https://localhost:8080/"
        }
      },
      "id": "_nz9f6dO2dTi",
      "execution_count": 12,
      "outputs": [
        {
          "output_type": "stream",
          "name": "stdout",
          "text": [
            "Constructing ground truth. It may take a while\n",
            "Getting eigenpairs. It may take a while\n"
          ]
        },
        {
          "output_type": "stream",
          "name": "stderr",
          "text": [
            "WARNING:kappa:reconstraining parameters manifold_matern_gp.kappa\n",
            "WARNING:sigma_f:reconstraining parameters manifold_matern_gp.sigma_f\n"
          ]
        },
        {
          "output_type": "stream",
          "name": "stdout",
          "text": [
            "Optimizing MLL. It may take a while\n",
            "Optimization restart 1/5, f = 43329.33264956861\n",
            "Optimization restart 2/5, f = 6.628353630304342\n",
            "Optimization restart 3/5, f = 6.62835363029043\n",
            "Optimization restart 4/5, f = 6.628353630281045\n",
            "Optimization restart 5/5, f = 6.6283536302834225\n",
            "Optimization finished. Proceeding to output\n"
          ]
        },
        {
          "output_type": "stream",
          "name": "stderr",
          "text": [
            "/tmp/ipython-input-364407282.py:51: RuntimeWarning: invalid value encountered in sqrt\n",
            "  std = np.nan_to_num(np.sqrt(variance))\n",
            "/usr/local/lib/python3.11/dist-packages/firedrake/_deprecation.py:65: UserWarning: The use of `File` for output is deprecated, please update your code to use `VTKFile` from `firedrake.output`.\n",
            "  warn(\n",
            "/usr/local/lib/python3.11/dist-packages/firedrake/_deprecation.py:65: UserWarning: The use of `File` for output is deprecated, please update your code to use `VTKFile` from `firedrake.output`.\n",
            "  warn(\n"
          ]
        }
      ]
    },
    {
      "cell_type": "code",
      "source": [
        "print(output_dir)"
      ],
      "metadata": {
        "id": "j-cf6NjD3anW",
        "outputId": "7969a0e6-52c7-4abb-d4a8-c2ddd71fb6fa",
        "colab": {
          "base_uri": "https://localhost:8080/"
        }
      },
      "id": "j-cf6NjD3anW",
      "execution_count": 13,
      "outputs": [
        {
          "output_type": "stream",
          "name": "stdout",
          "text": [
            "output\n"
          ]
        }
      ]
    }
  ],
  "metadata": {
    "kernelspec": {
      "display_name": "Python 3 (ipykernel)",
      "language": "python",
      "name": "python3"
    },
    "language_info": {
      "codemirror_mode": {
        "name": "ipython"
      },
      "file_extension": ".py",
      "mimetype": "text/x-python",
      "name": "python",
      "nbconvert_exporter": "python"
    },
    "colab": {
      "provenance": []
    }
  },
  "nbformat": 4,
  "nbformat_minor": 5
}