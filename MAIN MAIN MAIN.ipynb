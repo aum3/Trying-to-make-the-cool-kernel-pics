{
  "cells": [
    {
      "cell_type": "code",
      "execution_count": 6,
      "id": "eec913ed",
      "metadata": {
        "id": "eec913ed",
        "outputId": "9ba148f3-15b9-49cf-a311-50e79c5ff51e",
        "colab": {
          "base_uri": "https://localhost:8080/"
        }
      },
      "outputs": [
        {
          "output_type": "stream",
          "name": "stdout",
          "text": [
            "Requirement already satisfied: paramz>=0.9.5 in /usr/local/lib/python3.11/dist-packages (0.9.6)\n",
            "Requirement already satisfied: autograd>=1.3 in /usr/local/lib/python3.11/dist-packages (1.8.0)\n",
            "Requirement already satisfied: networkx>=2.4 in /usr/local/lib/python3.11/dist-packages (3.5)\n",
            "Requirement already satisfied: numpy>=1.7 in /usr/local/lib/python3.11/dist-packages (from paramz>=0.9.5) (2.0.2)\n",
            "Requirement already satisfied: scipy in /usr/local/lib/python3.11/dist-packages (from paramz>=0.9.5) (1.16.1)\n",
            "Requirement already satisfied: six in /usr/local/lib/python3.11/dist-packages (from paramz>=0.9.5) (1.17.0)\n",
            "Requirement already satisfied: decorator>=4.0.10 in /usr/local/lib/python3.11/dist-packages (from paramz>=0.9.5) (4.4.2)\n"
          ]
        }
      ],
      "source": [
        "import os\n",
        "!pip install 'paramz>=0.9.5' 'autograd>=1.3' 'networkx>=2.4'\n",
        "args = os.getenv(\"ARGS\", \"release real\").split(\" \")\n",
        "release = args[0]\n",
        "arch = args[1]"
      ]
    },
    {
      "cell_type": "code",
      "source": [
        "from google.colab import drive\n",
        "drive.mount('/content/drive')"
      ],
      "metadata": {
        "id": "u0rvNWHOiwYM",
        "outputId": "62d22c3a-c7d3-41af-e89a-de167d30d5a8",
        "colab": {
          "base_uri": "https://localhost:8080/"
        }
      },
      "id": "u0rvNWHOiwYM",
      "execution_count": 9,
      "outputs": [
        {
          "output_type": "stream",
          "name": "stdout",
          "text": [
            "Mounted at /content/drive\n"
          ]
        }
      ]
    },
    {
      "cell_type": "code",
      "execution_count": 7,
      "id": "mediterranean-century",
      "metadata": {
        "id": "mediterranean-century"
      },
      "outputs": [],
      "source": [
        "try:\n",
        "    import google.colab  # noqa: F401\n",
        "except ImportError:\n",
        "    import firedrake\n",
        "else:\n",
        "    try:\n",
        "        import firedrake\n",
        "    except ImportError:\n",
        "        if release != \"development\":\n",
        "            if arch != \"complex\":\n",
        "                !wget \"https://fem-on-colab.github.io/releases/firedrake-install-release-real.sh\" -O \"/tmp/firedrake-install.sh\" && bash \"/tmp/firedrake-install.sh\"\n",
        "            else:\n",
        "                !wget \"https://fem-on-colab.github.io/releases/firedrake-install-release-complex.sh\" -O \"/tmp/firedrake-install.sh\" && bash \"/tmp/firedrake-install.sh\"\n",
        "        else:\n",
        "            if arch != \"complex\":\n",
        "                !wget \"https://fem-on-colab.github.io/releases/firedrake-install-development-real.sh\" -O \"/tmp/firedrake-install.sh\" && bash \"/tmp/firedrake-install.sh\"\n",
        "            else:\n",
        "                !wget \"https://fem-on-colab.github.io/releases/firedrake-install-development-complex.sh\" -O \"/tmp/firedrake-install.sh\" && bash \"/tmp/firedrake-install.sh\"\n",
        "        import firedrake"
      ]
    },
    {
      "cell_type": "code",
      "source": [
        "from firedrake import Mesh, FunctionSpace\n",
        "\n",
        "from manifold_matern.cli import argument_parser\n",
        "from manifold_matern.manifold_matern_gp import ManifoldMaternGP\n",
        "from manifold_matern.laplace_eigenvalues import get_eigenpairs\n",
        "\n",
        "from manifold_matern.utils import export_fun, construct_mesh_graph, \\\n",
        "    convert_to_firedrake_function\n",
        "\n",
        "import numpy as np\n",
        "import os\n",
        "\n",
        "\n",
        "def construct_ground_truth(mesh):\n",
        "    import networkx as nx\n",
        "\n",
        "    mesh_graph = construct_mesh_graph(mesh)\n",
        "\n",
        "    geodesics = nx.shortest_path_length(mesh_graph, source=0, weight='weight')\n",
        "\n",
        "    N = mesh.num_vertices()\n",
        "\n",
        "    ground_truth = np.zeros((N))\n",
        "    period = 2*np.pi / 0.3 * 2\n",
        "    for i in range(N):\n",
        "        ground_truth[i] = 2 * np.sin(geodesics.get(i) * period + 0.3)\n",
        "\n",
        "    return ground_truth\n",
        "\n",
        "\n",
        "if __name__ == '__main__':\n",
        "    parser = argument_parser()\n",
        "    args = parser.parse_args()\n",
        "\n",
        "    mesh = Mesh('resources/meshes/dragon_connected.msh', dim=3)\n",
        "    num_eigenpairs = args.num_eigenpairs\n",
        "\n",
        "    print('Constructing ground truth. It may take a while')\n",
        "    ground_truth = construct_ground_truth(mesh)\n",
        "\n",
        "    mayavi_installed = False\n",
        "    if args.mayavi:\n",
        "        try:\n",
        "            import manifold_matern.plotting\n",
        "            mayavi_installed = True\n",
        "        except ImportError:\n",
        "            import warnings\n",
        "            warnings.warn('Mayavi does not seem to be installed.\\n'\n",
        "                          'No mayavi-based plotting will occur.',\n",
        "                          RuntimeWarning)\n",
        "\n",
        "    V = FunctionSpace(mesh, \"Lagrange\", 1)\n",
        "\n",
        "    if args.eigenpairs_file is None:\n",
        "        print('Getting eigenpairs. It may take a while')\n",
        "        eigenpairs = get_eigenpairs(mesh, V, num_eigvals=num_eigenpairs,\n",
        "                                    eps_target=1e-10)\n",
        "    else:\n",
        "        print('Reading eigenpairs from a file')\n",
        "        eigenpairs_ = np.load(args.eigenpairs_file)\n",
        "        eigenpairs = (eigenpairs_[:, 0],\n",
        "                      eigenpairs_[:, 1:])\n",
        "\n",
        "    X = [3316, 10960, 24947, 33498, 33513, 34844, 35740, 35830, 36026,\n",
        "         36654, 36727, 37597, 39066, 39886, 40050, 41165, 41387, 41430,\n",
        "         42420, 43012, 43383, 45296, 45796, 47431, 48346, 48779, 49033,\n",
        "         49127, 50374, 50878, 51132, 51132, 51168, 51175, 55643, 55863,\n",
        "         56414, 56568, 56933, 57130, 57168, 57536, 60028, 61432, 61915,\n",
        "         62936, 63657, 64280, 64542, 75551, 87643, 95423]\n",
        "    Y = ground_truth[X]\n",
        "\n",
        "    gp = ManifoldMaternGP(mesh, V, X, Y, eigenpairs)\n",
        "    gp.kappa.constrain_bounded(0.01, 5.0)\n",
        "    gp.sigma_n.fix(1e-15)\n",
        "    gp.sigma_f.constrain_bounded(1., 100000.0)\n",
        "\n",
        "    if args.seed is not None:\n",
        "        print('Setting seed %d' % args.seed)\n",
        "        np.random.seed(args.seed)\n",
        "\n",
        "    print('Optimizing MLL. It may take a while')\n",
        "    gp.optimize_restarts(num_restarts=5)\n",
        "\n",
        "    print('Optimization finished. Proceeding to output')\n",
        "    mean, variance = gp.predict()\n",
        "    std = np.nan_to_num(np.sqrt(variance))\n",
        "    samples = gp.posterior_samples(args.num_samples)\n",
        "\n",
        "    output_dir = args.output_dir\n",
        "    if not os.path.exists(output_dir):\n",
        "        os.makedirs(output_dir)\n",
        "\n",
        "    export_fun(os.path.join(output_dir, '0_groud_truth.pvd'),\n",
        "               convert_to_firedrake_function(V, ground_truth))\n",
        "    export_fun(os.path.join(output_dir, '0_mean.pvd'),\n",
        "               convert_to_firedrake_function(V, mean))\n",
        "    export_fun(os.path.join(output_dir, '0_std.pvd'),\n",
        "               convert_to_firedrake_function(V, std))\n",
        "\n",
        "    for s in range(len(samples)):\n",
        "        export_fun(os.path.join(output_dir, '0_sample_%d.pvd' % s),\n",
        "                   convert_to_firedrake_function(V, samples[s]))\n",
        "\n",
        "    if args.mayavi and mayavi_installed:\n",
        "        from manifold_matern.plotting import plot_example\n",
        "        vmin, vmax = -4., 4.\n",
        "        plot_example(os.path.join(output_dir, '1_ground_truth.png'),\n",
        "                     mesh, V, ground_truth, X, vmin, vmax)\n",
        "        plot_example(os.path.join(output_dir, '1_mean.png'),\n",
        "                     mesh, V, mean, X, vmin, vmax)\n",
        "        plot_example(os.path.join(output_dir, '1_std.png'),\n",
        "                     mesh, V, std, X, std.min(), std.max(), colormap='viridis')\n",
        "        for s in range(len(samples)):\n",
        "            plot_example(os.path.join(output_dir, '1_sample_%d.png' % s),\n",
        "                         mesh, V, samples[s], X, vmin, vmax)\n"
      ],
      "metadata": {
        "id": "R33IexNBfqRM",
        "outputId": "98452d2d-edfc-4760-e194-d2c063d8d079",
        "colab": {
          "base_uri": "https://localhost:8080/",
          "height": 383
        }
      },
      "id": "R33IexNBfqRM",
      "execution_count": 8,
      "outputs": [
        {
          "output_type": "error",
          "ename": "ModuleNotFoundError",
          "evalue": "No module named 'manifold_matern'",
          "traceback": [
            "\u001b[0;31m---------------------------------------------------------------------------\u001b[0m",
            "\u001b[0;31mModuleNotFoundError\u001b[0m                       Traceback (most recent call last)",
            "\u001b[0;32m/tmp/ipython-input-1979064942.py\u001b[0m in \u001b[0;36m<cell line: 0>\u001b[0;34m()\u001b[0m\n\u001b[1;32m      1\u001b[0m \u001b[0;32mfrom\u001b[0m \u001b[0mfiredrake\u001b[0m \u001b[0;32mimport\u001b[0m \u001b[0mMesh\u001b[0m\u001b[0;34m,\u001b[0m \u001b[0mFunctionSpace\u001b[0m\u001b[0;34m\u001b[0m\u001b[0;34m\u001b[0m\u001b[0m\n\u001b[1;32m      2\u001b[0m \u001b[0;34m\u001b[0m\u001b[0m\n\u001b[0;32m----> 3\u001b[0;31m \u001b[0;32mfrom\u001b[0m \u001b[0mmanifold_matern\u001b[0m\u001b[0;34m.\u001b[0m\u001b[0mcli\u001b[0m \u001b[0;32mimport\u001b[0m \u001b[0margument_parser\u001b[0m\u001b[0;34m\u001b[0m\u001b[0;34m\u001b[0m\u001b[0m\n\u001b[0m\u001b[1;32m      4\u001b[0m \u001b[0;32mfrom\u001b[0m \u001b[0mmanifold_matern\u001b[0m\u001b[0;34m.\u001b[0m\u001b[0mmanifold_matern_gp\u001b[0m \u001b[0;32mimport\u001b[0m \u001b[0mManifoldMaternGP\u001b[0m\u001b[0;34m\u001b[0m\u001b[0;34m\u001b[0m\u001b[0m\n\u001b[1;32m      5\u001b[0m \u001b[0;32mfrom\u001b[0m \u001b[0mmanifold_matern\u001b[0m\u001b[0;34m.\u001b[0m\u001b[0mlaplace_eigenvalues\u001b[0m \u001b[0;32mimport\u001b[0m \u001b[0mget_eigenpairs\u001b[0m\u001b[0;34m\u001b[0m\u001b[0;34m\u001b[0m\u001b[0m\n",
            "\u001b[0;31mModuleNotFoundError\u001b[0m: No module named 'manifold_matern'",
            "",
            "\u001b[0;31m---------------------------------------------------------------------------\u001b[0;32m\nNOTE: If your import is failing due to a missing package, you can\nmanually install dependencies using either !pip or !apt.\n\nTo view examples of installing some common dependencies, click the\n\"Open Examples\" button below.\n\u001b[0;31m---------------------------------------------------------------------------\u001b[0m\n"
          ],
          "errorDetails": {
            "actions": [
              {
                "action": "open_url",
                "actionText": "Open Examples",
                "url": "/notebooks/snippets/importing_libraries.ipynb"
              }
            ]
          }
        }
      ]
    }
  ],
  "metadata": {
    "kernelspec": {
      "display_name": "Python 3 (ipykernel)",
      "language": "python",
      "name": "python3"
    },
    "language_info": {
      "codemirror_mode": {
        "name": "ipython"
      },
      "file_extension": ".py",
      "mimetype": "text/x-python",
      "name": "python",
      "nbconvert_exporter": "python"
    },
    "colab": {
      "provenance": []
    }
  },
  "nbformat": 4,
  "nbformat_minor": 5
}