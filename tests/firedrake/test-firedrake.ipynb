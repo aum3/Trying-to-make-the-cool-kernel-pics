{
  "cells": [
    {
      "cell_type": "code",
      "execution_count": 1,
      "id": "eec913ed",
      "metadata": {
        "id": "eec913ed"
      },
      "outputs": [],
      "source": [
        "import os\n",
        "args = os.getenv(\"ARGS\", \"release real\").split(\" \")\n",
        "release = args[0]\n",
        "arch = args[1]"
      ]
    },
    {
      "cell_type": "code",
      "execution_count": 7,
      "id": "mediterranean-century",
      "metadata": {
        "id": "mediterranean-century"
      },
      "outputs": [],
      "source": [
        "try:\n",
        "    import google.colab  # noqa: F401\n",
        "except ImportError:\n",
        "    import firedrake\n",
        "else:\n",
        "    try:\n",
        "        import firedrake\n",
        "    except ImportError:\n",
        "        if release != \"development\":\n",
        "            if arch != \"complex\":\n",
        "                !wget \"https://fem-on-colab.github.io/releases/firedrake-install-release-real.sh\" -O \"/tmp/firedrake-install.sh\" && bash \"/tmp/firedrake-install.sh\"\n",
        "            else:\n",
        "                !wget \"https://fem-on-colab.github.io/releases/firedrake-install-release-complex.sh\" -O \"/tmp/firedrake-install.sh\" && bash \"/tmp/firedrake-install.sh\"\n",
        "        else:\n",
        "            if arch != \"complex\":\n",
        "                !wget \"https://fem-on-colab.github.io/releases/firedrake-install-development-real.sh\" -O \"/tmp/firedrake-install.sh\" && bash \"/tmp/firedrake-install.sh\"\n",
        "            else:\n",
        "                !wget \"https://fem-on-colab.github.io/releases/firedrake-install-development-complex.sh\" -O \"/tmp/firedrake-install.sh\" && bash \"/tmp/firedrake-install.sh\"\n",
        "        import firedrake"
      ]
    },
    {
      "cell_type": "code",
      "source": [],
      "metadata": {
        "id": "R33IexNBfqRM"
      },
      "id": "R33IexNBfqRM",
      "execution_count": null,
      "outputs": []
    }
  ],
  "metadata": {
    "kernelspec": {
      "display_name": "Python 3 (ipykernel)",
      "language": "python",
      "name": "python3"
    },
    "language_info": {
      "codemirror_mode": {
        "name": "ipython"
      },
      "file_extension": ".py",
      "mimetype": "text/x-python",
      "name": "python",
      "nbconvert_exporter": "python"
    },
    "colab": {
      "provenance": []
    }
  },
  "nbformat": 4,
  "nbformat_minor": 5
}